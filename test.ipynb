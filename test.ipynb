{
 "cells": [
  {
   "attachments": {},
   "cell_type": "markdown",
   "metadata": {},
   "source": [
    "# import the libraries"
   ]
  },
  {
   "cell_type": "code",
   "execution_count": 1,
   "metadata": {},
   "outputs": [],
   "source": [
    "import os\n",
    "import sys\n",
    "\n",
    "import numpy as np\n",
    "from tqdm import tqdm\n",
    "\n",
    "from music21 import midi, converter, instrument, note, chord, stream\n",
    "\n",
    "import tensorflow as tf\n",
    "from tensorflow import keras as k\n",
    "from keras.models import Sequential\n",
    "from keras.layers import SimpleRNN, Dense, Dropout, Activation\n",
    "from keras.callbacks import ModelCheckpoint, LambdaCallback\n",
    "\n",
    "import matplotlib.pyplot as plt"
   ]
  },
  {
   "cell_type": "code",
   "execution_count": 3,
   "metadata": {},
   "outputs": [
    {
     "name": "stdout",
     "output_type": "stream",
     "text": [
      "Num GPUs Available:  0\n"
     ]
    }
   ],
   "source": [
    "print(\"Num GPUs Available: \", len(tf.config.list_physical_devices('GPU')))\n"
   ]
  },
  {
   "attachments": {},
   "cell_type": "markdown",
   "metadata": {},
   "source": [
    "# file path\n",
    "*file_path = './maestro-v3.0.0-midi/maestro-v3.0.0/'*"
   ]
  },
  {
   "cell_type": "code",
   "execution_count": 2,
   "metadata": {},
   "outputs": [],
   "source": [
    "file_path = './maestro-v3.0.0'\n",
    "# years = ['2014', '2015', '2017', '2018']\n",
    "years = ['2014']"
   ]
  },
  {
   "attachments": {},
   "cell_type": "markdown",
   "metadata": {},
   "source": [
    "# list midi\n",
    "print all the midi files"
   ]
  },
  {
   "cell_type": "code",
   "execution_count": 7,
   "metadata": {},
   "outputs": [
    {
     "name": "stdout",
     "output_type": "stream",
     "text": [
      "./maestro-v3.0.0\\2014\\MIDI-UNPROCESSED_01-03_R1_2014_MID--AUDIO_01_R1_2014_wav--1.midi\n",
      "./maestro-v3.0.0\\2014\\MIDI-UNPROCESSED_01-03_R1_2014_MID--AUDIO_01_R1_2014_wav--2.midi\n",
      "./maestro-v3.0.0\\2014\\MIDI-UNPROCESSED_01-03_R1_2014_MID--AUDIO_01_R1_2014_wav--3.midi\n",
      "./maestro-v3.0.0\\2014\\MIDI-UNPROCESSED_01-03_R1_2014_MID--AUDIO_01_R1_2014_wav--5.midi\n",
      "./maestro-v3.0.0\\2014\\MIDI-UNPROCESSED_01-03_R1_2014_MID--AUDIO_02_R1_2014_wav--1.midi\n",
      "./maestro-v3.0.0\\2014\\MIDI-UNPROCESSED_01-03_R1_2014_MID--AUDIO_02_R1_2014_wav--2.midi\n",
      "./maestro-v3.0.0\\2014\\MIDI-UNPROCESSED_01-03_R1_2014_MID--AUDIO_02_R1_2014_wav--4.midi\n",
      "./maestro-v3.0.0\\2014\\MIDI-UNPROCESSED_01-03_R1_2014_MID--AUDIO_02_R1_2014_wav--5.midi\n",
      "./maestro-v3.0.0\\2014\\MIDI-UNPROCESSED_01-03_R1_2014_MID--AUDIO_03_R1_2014_wav--2.midi\n",
      "./maestro-v3.0.0\\2014\\MIDI-UNPROCESSED_01-03_R1_2014_MID--AUDIO_03_R1_2014_wav--3.midi\n",
      "./maestro-v3.0.0\\2014\\MIDI-UNPROCESSED_01-03_R1_2014_MID--AUDIO_03_R1_2014_wav--4.midi\n",
      "./maestro-v3.0.0\\2014\\MIDI-UNPROCESSED_01-03_R1_2014_MID--AUDIO_03_R1_2014_wav--5.midi\n",
      "./maestro-v3.0.0\\2014\\MIDI-UNPROCESSED_01-03_R1_2014_MID--AUDIO_03_R1_2014_wav--6.midi\n",
      "./maestro-v3.0.0\\2014\\MIDI-UNPROCESSED_04-05_R1_2014_MID--AUDIO_04_R1_2014_wav--1.midi\n",
      "./maestro-v3.0.0\\2014\\MIDI-UNPROCESSED_04-05_R1_2014_MID--AUDIO_04_R1_2014_wav--2.midi\n",
      "./maestro-v3.0.0\\2014\\MIDI-UNPROCESSED_04-05_R1_2014_MID--AUDIO_04_R1_2014_wav--3.midi\n",
      "./maestro-v3.0.0\\2014\\MIDI-UNPROCESSED_04-05_R1_2014_MID--AUDIO_04_R1_2014_wav--4.midi\n",
      "./maestro-v3.0.0\\2014\\MIDI-UNPROCESSED_04-05_R1_2014_MID--AUDIO_04_R1_2014_wav--5.midi\n",
      "./maestro-v3.0.0\\2014\\MIDI-UNPROCESSED_04-05_R1_2014_MID--AUDIO_05_R1_2014_wav--1.midi\n",
      "./maestro-v3.0.0\\2014\\MIDI-UNPROCESSED_04-05_R1_2014_MID--AUDIO_05_R1_2014_wav--2.midi\n",
      "./maestro-v3.0.0\\2014\\MIDI-UNPROCESSED_04-05_R1_2014_MID--AUDIO_05_R1_2014_wav--4.midi\n",
      "./maestro-v3.0.0\\2014\\MIDI-UNPROCESSED_04-05_R1_2014_MID--AUDIO_05_R1_2014_wav--5.midi\n",
      "./maestro-v3.0.0\\2014\\MIDI-UNPROCESSED_04-05_R1_2014_MID--AUDIO_05_R1_2014_wav--6.midi\n",
      "./maestro-v3.0.0\\2014\\MIDI-UNPROCESSED_04-05_R1_2014_MID--AUDIO_05_R1_2014_wav--7.midi\n",
      "./maestro-v3.0.0\\2014\\MIDI-UNPROCESSED_04-05_R1_2014_MID--AUDIO_05_R1_2014_wav--8.midi\n",
      "./maestro-v3.0.0\\2014\\MIDI-UNPROCESSED_04-07-08-10-12-15-17_R2_2014_MID--AUDIO_04_R2_2014_wav.midi\n",
      "./maestro-v3.0.0\\2014\\MIDI-UNPROCESSED_04-07-08-10-12-15-17_R2_2014_MID--AUDIO_07_R2_2014_wav.midi\n",
      "./maestro-v3.0.0\\2014\\MIDI-UNPROCESSED_04-07-08-10-12-15-17_R2_2014_MID--AUDIO_08_R2_2014_wav.midi\n",
      "./maestro-v3.0.0\\2014\\MIDI-UNPROCESSED_04-07-08-10-12-15-17_R2_2014_MID--AUDIO_10_R2_2014_wav.midi\n",
      "./maestro-v3.0.0\\2014\\MIDI-UNPROCESSED_04-07-08-10-12-15-17_R2_2014_MID--AUDIO_12_R2_2014_wav.midi\n",
      "./maestro-v3.0.0\\2014\\MIDI-UNPROCESSED_04-07-08-10-12-15-17_R2_2014_MID--AUDIO_15_R2_2014_wav.midi\n",
      "./maestro-v3.0.0\\2014\\MIDI-UNPROCESSED_04-07-08-10-12-15-17_R2_2014_MID--AUDIO_17_R2_2014_wav.midi\n",
      "./maestro-v3.0.0\\2014\\MIDI-UNPROCESSED_04-08-12_R3_2014_MID--AUDIO_04_R3_2014_wav--1.midi\n",
      "./maestro-v3.0.0\\2014\\MIDI-UNPROCESSED_04-08-12_R3_2014_MID--AUDIO_04_R3_2014_wav--2.midi\n",
      "./maestro-v3.0.0\\2014\\MIDI-UNPROCESSED_04-08-12_R3_2014_MID--AUDIO_08_R3_2014_wav.midi\n",
      "./maestro-v3.0.0\\2014\\MIDI-UNPROCESSED_04-08-12_R3_2014_MID--AUDIO_12_R3_2014_wav--1.midi\n",
      "./maestro-v3.0.0\\2014\\MIDI-UNPROCESSED_04-08-12_R3_2014_MID--AUDIO_12_R3_2014_wav--2.midi\n",
      "./maestro-v3.0.0\\2014\\MIDI-UNPROCESSED_06-08_R1_2014_MID--AUDIO_06_R1_2014_wav--1.midi\n",
      "./maestro-v3.0.0\\2014\\MIDI-UNPROCESSED_06-08_R1_2014_MID--AUDIO_06_R1_2014_wav--2.midi\n",
      "./maestro-v3.0.0\\2014\\MIDI-UNPROCESSED_06-08_R1_2014_MID--AUDIO_06_R1_2014_wav--3.midi\n",
      "./maestro-v3.0.0\\2014\\MIDI-UNPROCESSED_06-08_R1_2014_MID--AUDIO_07_R1_2014_wav--2.midi\n",
      "./maestro-v3.0.0\\2014\\MIDI-UNPROCESSED_06-08_R1_2014_MID--AUDIO_07_R1_2014_wav--3.midi\n",
      "./maestro-v3.0.0\\2014\\MIDI-UNPROCESSED_06-08_R1_2014_MID--AUDIO_07_R1_2014_wav--4.midi\n",
      "./maestro-v3.0.0\\2014\\MIDI-UNPROCESSED_06-08_R1_2014_MID--AUDIO_07_R1_2014_wav--5.midi\n",
      "./maestro-v3.0.0\\2014\\MIDI-UNPROCESSED_06-08_R1_2014_MID--AUDIO_07_R1_2014_wav--6.midi\n",
      "./maestro-v3.0.0\\2014\\MIDI-UNPROCESSED_06-08_R1_2014_MID--AUDIO_07_R1_2014_wav--7.midi\n",
      "./maestro-v3.0.0\\2014\\MIDI-UNPROCESSED_06-08_R1_2014_MID--AUDIO_08_R1_2014_wav--1.midi\n",
      "./maestro-v3.0.0\\2014\\MIDI-UNPROCESSED_06-08_R1_2014_MID--AUDIO_08_R1_2014_wav--2.midi\n",
      "./maestro-v3.0.0\\2014\\MIDI-UNPROCESSED_09-10_R1_2014_MID--AUDIO_09_R1_2014_wav--1.midi\n",
      "./maestro-v3.0.0\\2014\\MIDI-UNPROCESSED_09-10_R1_2014_MID--AUDIO_09_R1_2014_wav--2.midi\n",
      "./maestro-v3.0.0\\2014\\MIDI-UNPROCESSED_09-10_R1_2014_MID--AUDIO_09_R1_2014_wav--3.midi\n",
      "./maestro-v3.0.0\\2014\\MIDI-UNPROCESSED_09-10_R1_2014_MID--AUDIO_09_R1_2014_wav--4.midi\n",
      "./maestro-v3.0.0\\2014\\MIDI-UNPROCESSED_09-10_R1_2014_MID--AUDIO_10_R1_2014_wav--1.midi\n",
      "./maestro-v3.0.0\\2014\\MIDI-UNPROCESSED_09-10_R1_2014_MID--AUDIO_10_R1_2014_wav--2.midi\n",
      "./maestro-v3.0.0\\2014\\MIDI-UNPROCESSED_09-10_R1_2014_MID--AUDIO_10_R1_2014_wav--3.midi\n",
      "./maestro-v3.0.0\\2014\\MIDI-UNPROCESSED_09-10_R1_2014_MID--AUDIO_10_R1_2014_wav--4.midi\n",
      "./maestro-v3.0.0\\2014\\MIDI-UNPROCESSED_09-10_R1_2014_MID--AUDIO_10_R1_2014_wav--5.midi\n",
      "./maestro-v3.0.0\\2014\\MIDI-UNPROCESSED_11-13_R1_2014_MID--AUDIO_11_R1_2014_wav--1.midi\n",
      "./maestro-v3.0.0\\2014\\MIDI-UNPROCESSED_11-13_R1_2014_MID--AUDIO_11_R1_2014_wav--2.midi\n",
      "./maestro-v3.0.0\\2014\\MIDI-UNPROCESSED_11-13_R1_2014_MID--AUDIO_11_R1_2014_wav--3.midi\n",
      "./maestro-v3.0.0\\2014\\MIDI-UNPROCESSED_11-13_R1_2014_MID--AUDIO_12_R1_2014_wav--1.midi\n",
      "./maestro-v3.0.0\\2014\\MIDI-UNPROCESSED_11-13_R1_2014_MID--AUDIO_12_R1_2014_wav--2.midi\n",
      "./maestro-v3.0.0\\2014\\MIDI-UNPROCESSED_11-13_R1_2014_MID--AUDIO_13_R1_2014_wav--1.midi\n",
      "./maestro-v3.0.0\\2014\\MIDI-UNPROCESSED_11-13_R1_2014_MID--AUDIO_13_R1_2014_wav--2.midi\n",
      "./maestro-v3.0.0\\2014\\MIDI-UNPROCESSED_11-13_R1_2014_MID--AUDIO_13_R1_2014_wav--3.midi\n",
      "./maestro-v3.0.0\\2014\\MIDI-UNPROCESSED_11-13_R1_2014_MID--AUDIO_13_R1_2014_wav--4.midi\n",
      "./maestro-v3.0.0\\2014\\MIDI-UNPROCESSED_11-13_R1_2014_MID--AUDIO_13_R1_2014_wav--6.midi\n",
      "./maestro-v3.0.0\\2014\\MIDI-UNPROCESSED_14-15_R1_2014_MID--AUDIO_14_R1_2014_wav--1.midi\n",
      "./maestro-v3.0.0\\2014\\MIDI-UNPROCESSED_14-15_R1_2014_MID--AUDIO_15_R1_2014_wav--1.midi\n",
      "./maestro-v3.0.0\\2014\\MIDI-UNPROCESSED_14-15_R1_2014_MID--AUDIO_15_R1_2014_wav--2.midi\n",
      "./maestro-v3.0.0\\2014\\MIDI-UNPROCESSED_14-15_R1_2014_MID--AUDIO_15_R1_2014_wav--3.midi\n",
      "./maestro-v3.0.0\\2014\\MIDI-UNPROCESSED_14-15_R1_2014_MID--AUDIO_15_R1_2014_wav--4.midi\n",
      "./maestro-v3.0.0\\2014\\MIDI-UNPROCESSED_14-15_R1_2014_MID--AUDIO_15_R1_2014_wav--5.midi\n",
      "./maestro-v3.0.0\\2014\\MIDI-UNPROCESSED_14-15_R1_2014_MID--AUDIO_15_R1_2014_wav--6.midi\n",
      "./maestro-v3.0.0\\2014\\MIDI-UNPROCESSED_16-18_R1_2014_MID--AUDIO_16_R1_2014_wav--1.midi\n",
      "./maestro-v3.0.0\\2014\\MIDI-UNPROCESSED_16-18_R1_2014_MID--AUDIO_16_R1_2014_wav--2.midi\n",
      "./maestro-v3.0.0\\2014\\MIDI-UNPROCESSED_16-18_R1_2014_MID--AUDIO_16_R1_2014_wav--3.midi\n",
      "./maestro-v3.0.0\\2014\\MIDI-UNPROCESSED_16-18_R1_2014_MID--AUDIO_17_R1_2014_wav--1.midi\n",
      "./maestro-v3.0.0\\2014\\MIDI-UNPROCESSED_16-18_R1_2014_MID--AUDIO_17_R1_2014_wav--2.midi\n",
      "./maestro-v3.0.0\\2014\\MIDI-UNPROCESSED_16-18_R1_2014_MID--AUDIO_18_R1_2014_wav--1.midi\n",
      "./maestro-v3.0.0\\2014\\MIDI-UNPROCESSED_16-18_R1_2014_MID--AUDIO_18_R1_2014_wav--2.midi\n",
      "./maestro-v3.0.0\\2014\\MIDI-UNPROCESSED_16-18_R1_2014_MID--AUDIO_18_R1_2014_wav--3.midi\n",
      "./maestro-v3.0.0\\2014\\MIDI-UNPROCESSED_16-18_R1_2014_MID--AUDIO_18_R1_2014_wav--4.midi\n",
      "./maestro-v3.0.0\\2014\\MIDI-UNPROCESSED_16-18_R1_2014_MID--AUDIO_18_R1_2014_wav--5.midi\n",
      "./maestro-v3.0.0\\2014\\MIDI-UNPROCESSED_19-20-21_R2_2014_MID--AUDIO_19_R2_2014_wav.midi\n",
      "./maestro-v3.0.0\\2014\\MIDI-UNPROCESSED_19-20-21_R2_2014_MID--AUDIO_20_R2_2014_wav.midi\n",
      "./maestro-v3.0.0\\2014\\MIDI-UNPROCESSED_19-20-21_R2_2014_MID--AUDIO_21_R2_2014_wav.midi\n",
      "./maestro-v3.0.0\\2014\\MIDI-UNPROCESSED_19-20_R1_2014_MID--AUDIO_19_R1_2014_wav--1.midi\n",
      "./maestro-v3.0.0\\2014\\MIDI-UNPROCESSED_19-20_R1_2014_MID--AUDIO_19_R1_2014_wav--2.midi\n",
      "./maestro-v3.0.0\\2014\\MIDI-UNPROCESSED_19-20_R1_2014_MID--AUDIO_19_R1_2014_wav--8.midi\n",
      "./maestro-v3.0.0\\2014\\MIDI-UNPROCESSED_19-20_R1_2014_MID--AUDIO_20_R1_2014_wav--1.midi\n",
      "./maestro-v3.0.0\\2014\\MIDI-UNPROCESSED_19-20_R1_2014_MID--AUDIO_20_R1_2014_wav--2.midi\n",
      "./maestro-v3.0.0\\2014\\MIDI-UNPROCESSED_19-21_R3_2014_MID--AUDIO_21_R3_2014_wav--1.midi\n",
      "./maestro-v3.0.0\\2014\\MIDI-UNPROCESSED_19-21_R3_2014_MID--AUDIO_21_R3_2014_wav--2.midi\n",
      "./maestro-v3.0.0\\2014\\MIDI-UNPROCESSED_21-22_R1_2014_MID--AUDIO_21_R1_2014_wav--1.midi\n",
      "./maestro-v3.0.0\\2014\\MIDI-UNPROCESSED_21-22_R1_2014_MID--AUDIO_21_R1_2014_wav--2.midi\n",
      "./maestro-v3.0.0\\2014\\MIDI-UNPROCESSED_21-22_R1_2014_MID--AUDIO_21_R1_2014_wav--3.midi\n",
      "./maestro-v3.0.0\\2014\\MIDI-UNPROCESSED_21-22_R1_2014_MID--AUDIO_21_R1_2014_wav--4.midi\n",
      "./maestro-v3.0.0\\2014\\MIDI-UNPROCESSED_21-22_R1_2014_MID--AUDIO_21_R1_2014_wav--6.midi\n",
      "./maestro-v3.0.0\\2014\\MIDI-UNPROCESSED_21-22_R1_2014_MID--AUDIO_21_R1_2014_wav--7.midi\n",
      "./maestro-v3.0.0\\2014\\MIDI-UNPROCESSED_21-22_R1_2014_MID--AUDIO_21_R1_2014_wav--8.midi\n",
      "./maestro-v3.0.0\\2014\\MIDI-UNPROCESSED_21-22_R1_2014_MID--AUDIO_22_R1_2014_wav--1.midi\n",
      "./maestro-v3.0.0\\2014\\MIDI-UNPROCESSED_21-22_R1_2014_MID--AUDIO_22_R1_2014_wav--2.midi\n",
      "./maestro-v3.0.0\\2014\\MIDI-UNPROCESSED_21-22_R1_2014_MID--AUDIO_22_R1_2014_wav--4.midi\n",
      "./maestro-v3.0.0\\2014\\MIDI-UNPROCESSED_21-22_R1_2014_MID--AUDIO_22_R1_2014_wav--5.midi\n"
     ]
    }
   ],
   "source": [
    "# print files inside the folder maestro-v3.0.0 with name 2004, 2006, 2008, 2009\n",
    "def list_midi(file_path):\n",
    "    for year in years:\n",
    "        path = os.path.join(file_path, year)\n",
    "        for root, dirs, files in os.walk(path):\n",
    "            for file in files:\n",
    "                if file.endswith(\".midi\"):\n",
    "                    print(os.path.join(root, file))\n",
    "\n",
    "list_midi(file_path)\n",
    "\n",
    "# import glob\n",
    "# def list_midi_glob(file_path):\n",
    "#     for file in glob.glob(os.path.join(file_path, '**/*.midi'), recursive=True):\n",
    "#         print(file)\n",
    "\n",
    "# list_midi_glob(file_path)"
   ]
  },
  {
   "attachments": {},
   "cell_type": "markdown",
   "metadata": {},
   "source": [
    "# play a midi file"
   ]
  },
  {
   "cell_type": "code",
   "execution_count": 6,
   "metadata": {
    "notebookRunGroups": {
     "groupValue": ""
    }
   },
   "outputs": [
    {
     "ename": "FileNotFoundError",
     "evalue": "[Errno 2] No such file or directory: './maestro-v3.0.02004/MIDI-Unprocessed_XP_16_R2_2004_01_ORIG_MID--AUDIO_16_R2_2004_02_Track02_wav.midi'",
     "output_type": "error",
     "traceback": [
      "\u001b[1;31m---------------------------------------------------------------------------\u001b[0m",
      "\u001b[1;31mFileNotFoundError\u001b[0m                         Traceback (most recent call last)",
      "Cell \u001b[1;32mIn[6], line 12\u001b[0m\n\u001b[0;32m      9\u001b[0m     s\u001b[39m.\u001b[39mshow(\u001b[39m'\u001b[39m\u001b[39mmidi\u001b[39m\u001b[39m'\u001b[39m)\n\u001b[0;32m     10\u001b[0m     \u001b[39m# display(Audio(data=midi, rate=44100))\u001b[39;00m\n\u001b[1;32m---> 12\u001b[0m play_music(file_path \u001b[39m+\u001b[39;49m \u001b[39m'\u001b[39;49m\u001b[39m2004/MIDI-Unprocessed_XP_16_R2_2004_01_ORIG_MID--AUDIO_16_R2_2004_02_Track02_wav.midi\u001b[39;49m\u001b[39m'\u001b[39;49m)\n",
      "Cell \u001b[1;32mIn[6], line 5\u001b[0m, in \u001b[0;36mplay_music\u001b[1;34m(m)\u001b[0m\n\u001b[0;32m      3\u001b[0m \u001b[39mdef\u001b[39;00m \u001b[39mplay_music\u001b[39m(m):\n\u001b[0;32m      4\u001b[0m     midi_stream \u001b[39m=\u001b[39m midi\u001b[39m.\u001b[39mMidiFile()\n\u001b[1;32m----> 5\u001b[0m     midi_stream\u001b[39m.\u001b[39;49mopen(m)\n\u001b[0;32m      6\u001b[0m     midi_stream\u001b[39m.\u001b[39mread()\n\u001b[0;32m      7\u001b[0m     midi_stream\u001b[39m.\u001b[39mclose()\n",
      "File \u001b[1;32mc:\\Users\\swapn\\code\\Music Generation using Deep Learning\\.venv\\Lib\\site-packages\\music21\\midi\\__init__.py:1544\u001b[0m, in \u001b[0;36mMidiFile.open\u001b[1;34m(self, filename, attrib)\u001b[0m\n\u001b[0;32m   1542\u001b[0m     \u001b[39mraise\u001b[39;00m MidiException(\u001b[39m'\u001b[39m\u001b[39mcannot read or write unless in binary mode, not:\u001b[39m\u001b[39m'\u001b[39m, attrib)\n\u001b[0;32m   1543\u001b[0m \u001b[39m# pylint: disable-next=consider-using-with, unspecified-encoding\u001b[39;00m\n\u001b[1;32m-> 1544\u001b[0m \u001b[39mself\u001b[39m\u001b[39m.\u001b[39mfile \u001b[39m=\u001b[39m \u001b[39mopen\u001b[39;49m(filename, attrib)\n",
      "\u001b[1;31mFileNotFoundError\u001b[0m: [Errno 2] No such file or directory: './maestro-v3.0.02004/MIDI-Unprocessed_XP_16_R2_2004_01_ORIG_MID--AUDIO_16_R2_2004_02_Track02_wav.midi'"
     ]
    }
   ],
   "source": [
    "# play midi using pretty_midi fluidsynth method\n",
    "\n",
    "def play_music(m):\n",
    "    midi_stream = midi.MidiFile()\n",
    "    midi_stream.open(m)\n",
    "    midi_stream.read()\n",
    "    midi_stream.close()\n",
    "    s = midi.translate.midiFileToStream(midi_stream)\n",
    "    s.show('midi')\n",
    "    # display(Audio(data=midi, rate=44100))\n",
    "    \n",
    "play_music(file_path + '2004/MIDI-Unprocessed_XP_16_R2_2004_01_ORIG_MID--AUDIO_16_R2_2004_02_Track02_wav.midi')"
   ]
  },
  {
   "attachments": {},
   "cell_type": "markdown",
   "metadata": {},
   "source": [
    "# converting all the midi to stream object\n",
    "- We start by loading each file into a Music21 stream object using the converter.parse(file) function.\n",
    "\n",
    "- Using this stream object we get a list of all the notes and chords in the file.\n"
   ]
  },
  {
   "cell_type": "code",
   "execution_count": 8,
   "metadata": {},
   "outputs": [],
   "source": [
    "def load_midi(file_path):\n",
    "    all_midis_stream = []\n",
    "    for year in years:\n",
    "        path = os.path.join(file_path, year)\n",
    "        print(\"Loading midi files for year: \", year)\n",
    "        for root, dirs, files in os.walk(path):\n",
    "            for file in tqdm(files):\n",
    "                if file.endswith(\".midi\"):\n",
    "                    tr = os.path.join(root, file)\n",
    "                    # print(tr)\n",
    "                    midi = converter.parse(tr)\n",
    "                    all_midis_stream.append(midi)\n",
    "        print(\"Done loading midi files for year: \", year)\n",
    "    print(\"Done loading midi files for all years\")\n",
    "    return all_midis_stream\n"
   ]
  },
  {
   "attachments": {},
   "cell_type": "markdown",
   "metadata": {},
   "source": [
    "# get the notes and durations\n",
    "- We append the pitch of every note object using its string notation since the most significant parts of the note can be recreated using the string notation of the pitch.\n",
    "\n",
    "- And we append every chord by encoding the id of every note in the chord together into a single string, with each note being separated by a dot.\n",
    "\n",
    "- These encodings allows us to easily decode the output generated by the network into the correct notes and chords.\n"
   ]
  },
  {
   "cell_type": "code",
   "execution_count": 9,
   "metadata": {},
   "outputs": [],
   "source": [
    "def get_notes(midis_stream):\n",
    "    notes = []\n",
    "    durations = []\n",
    "    notes_to_parse = []\n",
    "\n",
    "    for song in tqdm(midis_stream):\n",
    "\n",
    "        # group by instrument parts and flatten into a single stream\n",
    "        part = instrument.partitionByInstrument(song)\n",
    "        # part = song\n",
    "\n",
    "        if part: # if parts has instrument parts\n",
    "            notes_to_parse = part.parts[0].recurse() # get first instrument part\n",
    "        else:\n",
    "            notes_to_parse = midi.flat.notes # if no instrument parts, notes are flat\n",
    "        \n",
    "        # for part in part.parts:\n",
    "        #     notes_to_parse = part.recurse()\n",
    "\n",
    "        for element in notes_to_parse:\n",
    "            if isinstance(element, note.Note):\n",
    "                notes.append(str(element.pitch))\n",
    "                # durations.append(element.duration.quarterLength)\n",
    "            elif isinstance(element, chord.Chord):\n",
    "                notes.append('.'.join(str(n) for n in element.normalOrder))\n",
    "                # durations.append(element.duration.quarterLength)\n",
    "\n",
    "    # return notes, durations\n",
    "    return notes"
   ]
  },
  {
   "cell_type": "code",
   "execution_count": 10,
   "metadata": {},
   "outputs": [
    {
     "name": "stdout",
     "output_type": "stream",
     "text": [
      "Loading midi files for year:  2014\n"
     ]
    },
    {
     "name": "stderr",
     "output_type": "stream",
     "text": [
      "100%|██████████| 105/105 [03:13<00:00,  1.85s/it]\n"
     ]
    },
    {
     "name": "stdout",
     "output_type": "stream",
     "text": [
      "Done loading midi files for year:  2014\n",
      "Done loading midi files for all years\n"
     ]
    },
    {
     "name": "stderr",
     "output_type": "stream",
     "text": [
      "100%|██████████| 105/105 [02:33<00:00,  1.46s/it]"
     ]
    },
    {
     "name": "stdout",
     "output_type": "stream",
     "text": [
      "Total notes in all the 2004 midis in the dataset: 445854\n"
     ]
    },
    {
     "name": "stderr",
     "output_type": "stream",
     "text": [
      "\n"
     ]
    }
   ],
   "source": [
    "all_midis = load_midi(file_path)\n",
    "notes  = get_notes(all_midis)\n",
    "n_vocab = len(set(notes))\n",
    "print(\"Total notes in all the 2004 midis in the dataset:\", len(notes))\n",
    "# print(\"Total durations in all the 2004 midis in the dataset:\", len(DURATION))"
   ]
  },
  {
   "cell_type": "code",
   "execution_count": 5,
   "metadata": {},
   "outputs": [],
   "source": [
    "def prepare_sequences(notes, n_vocab):\n",
    "    \"\"\" Prepare the sequences used by the Neural Network \"\"\"\n",
    "    sequence_length = 100\n",
    "    # get all pitch names\n",
    "    pitchnames = sorted(set(item for item in notes))\n",
    "    # create a dictionary to map pitches to integers\n",
    "    note_to_int = dict((note, number) for number, note in enumerate(pitchnames))\n",
    "    network_input = []\n",
    "    network_output = []\n",
    "    # create input sequences and the corresponding outputs\n",
    "    for i in range(0, len(notes) - sequence_length, 1):\n",
    "        sequence_in = notes[i:i + sequence_length]\n",
    "        sequence_out = notes[i + sequence_length]\n",
    "        network_input.append([note_to_int[char] for char in sequence_in])\n",
    "        network_output.append(note_to_int[sequence_out])\n",
    "    n_patterns = len(network_input)\n",
    "    # reshape the input into a format compatible with LSTM layers\n",
    "    network_input = np.reshape(network_input, (n_patterns, sequence_length, 1))\n",
    "    # normalize input\n",
    "    network_input = network_input / float(n_vocab)\n",
    "    # network_output = np_utils.to_categorical(network_output)\n",
    "    network_output = tf.keras.utils.to_categorical(network_output)\n",
    "\n",
    "    return (network_input, network_output)\n"
   ]
  },
  {
   "cell_type": "code",
   "execution_count": 6,
   "metadata": {},
   "outputs": [],
   "source": [
    "# simple RNN model\n",
    "\n",
    "def create_network(network_input, n_vocab):\n",
    "    \"\"\" create the structure of the neural network \"\"\"\n",
    "    model = Sequential()\n",
    "    model.add(SimpleRNN(512, input_shape=(network_input.shape[1], network_input.shape[2]), return_sequences=True))\n",
    "    model.add(Dropout(0.3))\n",
    "    model.add(SimpleRNN(512, return_sequences=True))\n",
    "    model.add(Dropout(0.3))\n",
    "    model.add(SimpleRNN(512))\n",
    "    model.add(Dense(256))\n",
    "    model.add(Dropout(0.3))\n",
    "    model.add(Dense(n_vocab))\n",
    "    model.add(Activation('softmax'))\n",
    "    model.compile(loss='categorical_crossentropy', optimizer='adam')\n",
    "\n",
    "    return model"
   ]
  },
  {
   "cell_type": "code",
   "execution_count": null,
   "metadata": {},
   "outputs": [],
   "source": [
    "# def train(model, network_input, network_output, epochs):\n",
    "#     \"\"\" train the neural network \"\"\"\n",
    "#     # create log files\n",
    "#     with open('logs/loss.txt', 'w') as f:\n",
    "#         pass\n",
    "\n",
    "#     with open('logs/val_loss.txt', 'w') as f:\n",
    "#         pass\n",
    "\n",
    "#     with open('logs/acc.txt', 'w') as f:\n",
    "#         pass\n",
    "\n",
    "#     with open('logs/val_acc.txt', 'w') as f:\n",
    "#         pass\n",
    "\n",
    "#     # define callbacks for logging\n",
    "#     log_callbacks = [\n",
    "#         LambdaCallback(\n",
    "#             on_epoch_end=lambda epoch, logs: append_log('logs/loss.txt', logs['loss']),\n",
    "#             on_epoch_end=lambda epoch, logs: append_log('logs/val_loss.txt', logs['val_loss']),\n",
    "#             on_epoch_end=lambda epoch, logs: append_log('logs/acc.txt', logs['accuracy']),\n",
    "#             on_epoch_end=lambda epoch, logs: append_log('logs/val_acc.txt', logs['val_accuracy'])\n",
    "#         )\n",
    "#     ]\n",
    "\n",
    "#     # save all weights\n",
    "#     filepath = \"weights/weights-improvement-{epoch:03d}-{loss:.4f}-bigger.hdf5\"\n",
    "#     checkpoint = ModelCheckpoint(\n",
    "#         filepath, monitor='loss', \n",
    "#         verbose=0, \n",
    "#         save_best_only=True, \n",
    "#         mode='min'\n",
    "#     )\n",
    "#     callbacks_list = log_callbacks + [checkpoint]\n",
    "\n",
    "#     model.fit(network_input, network_output, epochs, batch_size=128, callbacks=callbacks_list)\n",
    "\n",
    "\n",
    "# def append_log(log_path, value):\n",
    "#     \"\"\" append a value to a log file \"\"\"\n",
    "#     with open(log_path, 'a') as f:\n",
    "#         f.write(str(value) + '\\n')\n"
   ]
  },
  {
   "cell_type": "code",
   "execution_count": 7,
   "metadata": {},
   "outputs": [],
   "source": [
    "def train(model, network_input, network_output, epochs):\n",
    "    \"\"\" train the neural network \"\"\"\n",
    "    # save all weights\n",
    "    filepath = \"weights/weights-improvement-{epoch:03d}-{loss:.4f}-bigger.hdf5\"\n",
    "    checkpoint = ModelCheckpoint(\n",
    "        filepath, monitor='loss', \n",
    "        verbose=0, \n",
    "        save_best_only=True, \n",
    "        mode='min'\n",
    "    )\n",
    "\n",
    "    model.fit(network_input, network_output, epochs, callbacks=[checkpoint])\n",
    "    model.save('model.h5')\n",
    "\n",
    "# def append_log(log_path, value):\n",
    "#     \"\"\" append a value to a log file \"\"\"\n",
    "#     with open(log_path, 'a') as f:\n",
    "#         f.write(str(value) + '\\n')"
   ]
  },
  {
   "cell_type": "code",
   "execution_count": 8,
   "metadata": {},
   "outputs": [
    {
     "name": "stdout",
     "output_type": "stream",
     "text": [
      "Loading midi files for year:  2014\n"
     ]
    },
    {
     "name": "stderr",
     "output_type": "stream",
     "text": [
      "100%|██████████| 105/105 [02:26<00:00,  1.39s/it]\n"
     ]
    },
    {
     "name": "stdout",
     "output_type": "stream",
     "text": [
      "Done loading midi files for year:  2014\n",
      "Done loading midi files for all years\n"
     ]
    },
    {
     "name": "stderr",
     "output_type": "stream",
     "text": [
      "100%|██████████| 105/105 [01:52<00:00,  1.08s/it]"
     ]
    },
    {
     "name": "stdout",
     "output_type": "stream",
     "text": [
      "Notes generated\n",
      "Vocab generated\n"
     ]
    },
    {
     "name": "stderr",
     "output_type": "stream",
     "text": [
      "\n"
     ]
    }
   ],
   "source": [
    "all_midis_stream = load_midi(file_path)\n",
    "\n",
    "notes  = get_notes(all_midis_stream)\n",
    "print(\"Notes generated\")\n",
    "n_vocab = len(set(notes))\n",
    "print(\"Vocab generated\")"
   ]
  },
  {
   "cell_type": "code",
   "execution_count": 9,
   "metadata": {},
   "outputs": [
    {
     "name": "stdout",
     "output_type": "stream",
     "text": [
      "Network input and output generated\n",
      "Model created\n",
      "Model: \"sequential\"\n",
      "_________________________________________________________________\n",
      " Layer (type)                Output Shape              Param #   \n",
      "=================================================================\n",
      " simple_rnn (SimpleRNN)      (None, 100, 512)          263168    \n",
      "                                                                 \n",
      " dropout (Dropout)           (None, 100, 512)          0         \n",
      "                                                                 \n",
      " simple_rnn_1 (SimpleRNN)    (None, 100, 512)          524800    \n",
      "                                                                 \n",
      " dropout_1 (Dropout)         (None, 100, 512)          0         \n",
      "                                                                 \n",
      " simple_rnn_2 (SimpleRNN)    (None, 512)               524800    \n",
      "                                                                 \n",
      " dense (Dense)               (None, 256)               131328    \n",
      "                                                                 \n",
      " dropout_2 (Dropout)         (None, 256)               0         \n",
      "                                                                 \n",
      " dense_1 (Dense)             (None, 1954)              502178    \n",
      "                                                                 \n",
      " activation (Activation)     (None, 1954)              0         \n",
      "                                                                 \n",
      "=================================================================\n",
      "Total params: 1,946,274\n",
      "Trainable params: 1,946,274\n",
      "Non-trainable params: 0\n",
      "_________________________________________________________________\n"
     ]
    }
   ],
   "source": [
    "network_in, network_out = prepare_sequences(notes, n_vocab)\n",
    "print(\"Network input and output generated\")\n",
    "\n",
    "model = create_network(network_in, n_vocab)\n",
    "print(\"Model created\")\n",
    "model.summary()"
   ]
  },
  {
   "cell_type": "code",
   "execution_count": 10,
   "metadata": {},
   "outputs": [
    {
     "name": "stdout",
     "output_type": "stream",
     "text": [
      "Training in progress...\n",
      "    8/44576 [..............................] - ETA: 5:06:20 - loss: 7.7047"
     ]
    },
    {
     "ename": "KeyboardInterrupt",
     "evalue": "",
     "output_type": "error",
     "traceback": [
      "\u001b[1;31m---------------------------------------------------------------------------\u001b[0m",
      "\u001b[1;31mKeyboardInterrupt\u001b[0m                         Traceback (most recent call last)",
      "Cell \u001b[1;32mIn[10], line 4\u001b[0m\n\u001b[0;32m      1\u001b[0m epochs \u001b[39m=\u001b[39m \u001b[39m10\u001b[39m\n\u001b[0;32m      3\u001b[0m \u001b[39mprint\u001b[39m(\u001b[39m\"\u001b[39m\u001b[39mTraining in progress...\u001b[39m\u001b[39m\"\u001b[39m)\n\u001b[1;32m----> 4\u001b[0m train(model, network_in, network_out, epochs)\n\u001b[0;32m      5\u001b[0m \u001b[39mprint\u001b[39m(\u001b[39m\"\u001b[39m\u001b[39mTraining completed\u001b[39m\u001b[39m\"\u001b[39m)\n",
      "Cell \u001b[1;32mIn[7], line 12\u001b[0m, in \u001b[0;36mtrain\u001b[1;34m(model, network_input, network_output, epochs)\u001b[0m\n\u001b[0;32m      4\u001b[0m filepath \u001b[39m=\u001b[39m \u001b[39m\"\u001b[39m\u001b[39mweights/weights-improvement-\u001b[39m\u001b[39m{epoch:03d}\u001b[39;00m\u001b[39m-\u001b[39m\u001b[39m{loss:.4f}\u001b[39;00m\u001b[39m-bigger.hdf5\u001b[39m\u001b[39m\"\u001b[39m\n\u001b[0;32m      5\u001b[0m checkpoint \u001b[39m=\u001b[39m ModelCheckpoint(\n\u001b[0;32m      6\u001b[0m     filepath, monitor\u001b[39m=\u001b[39m\u001b[39m'\u001b[39m\u001b[39mloss\u001b[39m\u001b[39m'\u001b[39m, \n\u001b[0;32m      7\u001b[0m     verbose\u001b[39m=\u001b[39m\u001b[39m0\u001b[39m, \n\u001b[0;32m      8\u001b[0m     save_best_only\u001b[39m=\u001b[39m\u001b[39mTrue\u001b[39;00m, \n\u001b[0;32m      9\u001b[0m     mode\u001b[39m=\u001b[39m\u001b[39m'\u001b[39m\u001b[39mmin\u001b[39m\u001b[39m'\u001b[39m\n\u001b[0;32m     10\u001b[0m )\n\u001b[1;32m---> 12\u001b[0m model\u001b[39m.\u001b[39;49mfit(network_input, network_output, epochs, callbacks\u001b[39m=\u001b[39;49m[checkpoint])\n\u001b[0;32m     13\u001b[0m model\u001b[39m.\u001b[39msave(\u001b[39m'\u001b[39m\u001b[39mmodel.h5\u001b[39m\u001b[39m'\u001b[39m)\n",
      "File \u001b[1;32mc:\\Users\\swapn\\code\\Music Generation using Deep Learning\\.venv\\Lib\\site-packages\\keras\\utils\\traceback_utils.py:65\u001b[0m, in \u001b[0;36mfilter_traceback.<locals>.error_handler\u001b[1;34m(*args, **kwargs)\u001b[0m\n\u001b[0;32m     63\u001b[0m filtered_tb \u001b[39m=\u001b[39m \u001b[39mNone\u001b[39;00m\n\u001b[0;32m     64\u001b[0m \u001b[39mtry\u001b[39;00m:\n\u001b[1;32m---> 65\u001b[0m     \u001b[39mreturn\u001b[39;00m fn(\u001b[39m*\u001b[39;49margs, \u001b[39m*\u001b[39;49m\u001b[39m*\u001b[39;49mkwargs)\n\u001b[0;32m     66\u001b[0m \u001b[39mexcept\u001b[39;00m \u001b[39mException\u001b[39;00m \u001b[39mas\u001b[39;00m e:\n\u001b[0;32m     67\u001b[0m     filtered_tb \u001b[39m=\u001b[39m _process_traceback_frames(e\u001b[39m.\u001b[39m__traceback__)\n",
      "File \u001b[1;32mc:\\Users\\swapn\\code\\Music Generation using Deep Learning\\.venv\\Lib\\site-packages\\keras\\engine\\training.py:1685\u001b[0m, in \u001b[0;36mModel.fit\u001b[1;34m(self, x, y, batch_size, epochs, verbose, callbacks, validation_split, validation_data, shuffle, class_weight, sample_weight, initial_epoch, steps_per_epoch, validation_steps, validation_batch_size, validation_freq, max_queue_size, workers, use_multiprocessing)\u001b[0m\n\u001b[0;32m   1677\u001b[0m \u001b[39mwith\u001b[39;00m tf\u001b[39m.\u001b[39mprofiler\u001b[39m.\u001b[39mexperimental\u001b[39m.\u001b[39mTrace(\n\u001b[0;32m   1678\u001b[0m     \u001b[39m\"\u001b[39m\u001b[39mtrain\u001b[39m\u001b[39m\"\u001b[39m,\n\u001b[0;32m   1679\u001b[0m     epoch_num\u001b[39m=\u001b[39mepoch,\n\u001b[1;32m   (...)\u001b[0m\n\u001b[0;32m   1682\u001b[0m     _r\u001b[39m=\u001b[39m\u001b[39m1\u001b[39m,\n\u001b[0;32m   1683\u001b[0m ):\n\u001b[0;32m   1684\u001b[0m     callbacks\u001b[39m.\u001b[39mon_train_batch_begin(step)\n\u001b[1;32m-> 1685\u001b[0m     tmp_logs \u001b[39m=\u001b[39m \u001b[39mself\u001b[39;49m\u001b[39m.\u001b[39;49mtrain_function(iterator)\n\u001b[0;32m   1686\u001b[0m     \u001b[39mif\u001b[39;00m data_handler\u001b[39m.\u001b[39mshould_sync:\n\u001b[0;32m   1687\u001b[0m         context\u001b[39m.\u001b[39masync_wait()\n",
      "File \u001b[1;32mc:\\Users\\swapn\\code\\Music Generation using Deep Learning\\.venv\\Lib\\site-packages\\tensorflow\\python\\util\\traceback_utils.py:150\u001b[0m, in \u001b[0;36mfilter_traceback.<locals>.error_handler\u001b[1;34m(*args, **kwargs)\u001b[0m\n\u001b[0;32m    148\u001b[0m filtered_tb \u001b[39m=\u001b[39m \u001b[39mNone\u001b[39;00m\n\u001b[0;32m    149\u001b[0m \u001b[39mtry\u001b[39;00m:\n\u001b[1;32m--> 150\u001b[0m   \u001b[39mreturn\u001b[39;00m fn(\u001b[39m*\u001b[39;49margs, \u001b[39m*\u001b[39;49m\u001b[39m*\u001b[39;49mkwargs)\n\u001b[0;32m    151\u001b[0m \u001b[39mexcept\u001b[39;00m \u001b[39mException\u001b[39;00m \u001b[39mas\u001b[39;00m e:\n\u001b[0;32m    152\u001b[0m   filtered_tb \u001b[39m=\u001b[39m _process_traceback_frames(e\u001b[39m.\u001b[39m__traceback__)\n",
      "File \u001b[1;32mc:\\Users\\swapn\\code\\Music Generation using Deep Learning\\.venv\\Lib\\site-packages\\tensorflow\\python\\eager\\polymorphic_function\\polymorphic_function.py:894\u001b[0m, in \u001b[0;36mFunction.__call__\u001b[1;34m(self, *args, **kwds)\u001b[0m\n\u001b[0;32m    891\u001b[0m compiler \u001b[39m=\u001b[39m \u001b[39m\"\u001b[39m\u001b[39mxla\u001b[39m\u001b[39m\"\u001b[39m \u001b[39mif\u001b[39;00m \u001b[39mself\u001b[39m\u001b[39m.\u001b[39m_jit_compile \u001b[39melse\u001b[39;00m \u001b[39m\"\u001b[39m\u001b[39mnonXla\u001b[39m\u001b[39m\"\u001b[39m\n\u001b[0;32m    893\u001b[0m \u001b[39mwith\u001b[39;00m OptionalXlaContext(\u001b[39mself\u001b[39m\u001b[39m.\u001b[39m_jit_compile):\n\u001b[1;32m--> 894\u001b[0m   result \u001b[39m=\u001b[39m \u001b[39mself\u001b[39;49m\u001b[39m.\u001b[39;49m_call(\u001b[39m*\u001b[39;49margs, \u001b[39m*\u001b[39;49m\u001b[39m*\u001b[39;49mkwds)\n\u001b[0;32m    896\u001b[0m new_tracing_count \u001b[39m=\u001b[39m \u001b[39mself\u001b[39m\u001b[39m.\u001b[39mexperimental_get_tracing_count()\n\u001b[0;32m    897\u001b[0m without_tracing \u001b[39m=\u001b[39m (tracing_count \u001b[39m==\u001b[39m new_tracing_count)\n",
      "File \u001b[1;32mc:\\Users\\swapn\\code\\Music Generation using Deep Learning\\.venv\\Lib\\site-packages\\tensorflow\\python\\eager\\polymorphic_function\\polymorphic_function.py:926\u001b[0m, in \u001b[0;36mFunction._call\u001b[1;34m(self, *args, **kwds)\u001b[0m\n\u001b[0;32m    923\u001b[0m   \u001b[39mself\u001b[39m\u001b[39m.\u001b[39m_lock\u001b[39m.\u001b[39mrelease()\n\u001b[0;32m    924\u001b[0m   \u001b[39m# In this case we have created variables on the first call, so we run the\u001b[39;00m\n\u001b[0;32m    925\u001b[0m   \u001b[39m# defunned version which is guaranteed to never create variables.\u001b[39;00m\n\u001b[1;32m--> 926\u001b[0m   \u001b[39mreturn\u001b[39;00m \u001b[39mself\u001b[39;49m\u001b[39m.\u001b[39;49m_no_variable_creation_fn(\u001b[39m*\u001b[39;49margs, \u001b[39m*\u001b[39;49m\u001b[39m*\u001b[39;49mkwds)  \u001b[39m# pylint: disable=not-callable\u001b[39;00m\n\u001b[0;32m    927\u001b[0m \u001b[39melif\u001b[39;00m \u001b[39mself\u001b[39m\u001b[39m.\u001b[39m_variable_creation_fn \u001b[39mis\u001b[39;00m \u001b[39mnot\u001b[39;00m \u001b[39mNone\u001b[39;00m:\n\u001b[0;32m    928\u001b[0m   \u001b[39m# Release the lock early so that multiple threads can perform the call\u001b[39;00m\n\u001b[0;32m    929\u001b[0m   \u001b[39m# in parallel.\u001b[39;00m\n\u001b[0;32m    930\u001b[0m   \u001b[39mself\u001b[39m\u001b[39m.\u001b[39m_lock\u001b[39m.\u001b[39mrelease()\n",
      "File \u001b[1;32mc:\\Users\\swapn\\code\\Music Generation using Deep Learning\\.venv\\Lib\\site-packages\\tensorflow\\python\\eager\\polymorphic_function\\tracing_compiler.py:143\u001b[0m, in \u001b[0;36mTracingCompiler.__call__\u001b[1;34m(self, *args, **kwargs)\u001b[0m\n\u001b[0;32m    140\u001b[0m \u001b[39mwith\u001b[39;00m \u001b[39mself\u001b[39m\u001b[39m.\u001b[39m_lock:\n\u001b[0;32m    141\u001b[0m   (concrete_function,\n\u001b[0;32m    142\u001b[0m    filtered_flat_args) \u001b[39m=\u001b[39m \u001b[39mself\u001b[39m\u001b[39m.\u001b[39m_maybe_define_function(args, kwargs)\n\u001b[1;32m--> 143\u001b[0m \u001b[39mreturn\u001b[39;00m concrete_function\u001b[39m.\u001b[39;49m_call_flat(\n\u001b[0;32m    144\u001b[0m     filtered_flat_args, captured_inputs\u001b[39m=\u001b[39;49mconcrete_function\u001b[39m.\u001b[39;49mcaptured_inputs)\n",
      "File \u001b[1;32mc:\\Users\\swapn\\code\\Music Generation using Deep Learning\\.venv\\Lib\\site-packages\\tensorflow\\python\\eager\\polymorphic_function\\monomorphic_function.py:1757\u001b[0m, in \u001b[0;36mConcreteFunction._call_flat\u001b[1;34m(self, args, captured_inputs, cancellation_manager)\u001b[0m\n\u001b[0;32m   1753\u001b[0m possible_gradient_type \u001b[39m=\u001b[39m gradients_util\u001b[39m.\u001b[39mPossibleTapeGradientTypes(args)\n\u001b[0;32m   1754\u001b[0m \u001b[39mif\u001b[39;00m (possible_gradient_type \u001b[39m==\u001b[39m gradients_util\u001b[39m.\u001b[39mPOSSIBLE_GRADIENT_TYPES_NONE\n\u001b[0;32m   1755\u001b[0m     \u001b[39mand\u001b[39;00m executing_eagerly):\n\u001b[0;32m   1756\u001b[0m   \u001b[39m# No tape is watching; skip to running the function.\u001b[39;00m\n\u001b[1;32m-> 1757\u001b[0m   \u001b[39mreturn\u001b[39;00m \u001b[39mself\u001b[39m\u001b[39m.\u001b[39m_build_call_outputs(\u001b[39mself\u001b[39;49m\u001b[39m.\u001b[39;49m_inference_function\u001b[39m.\u001b[39;49mcall(\n\u001b[0;32m   1758\u001b[0m       ctx, args, cancellation_manager\u001b[39m=\u001b[39;49mcancellation_manager))\n\u001b[0;32m   1759\u001b[0m forward_backward \u001b[39m=\u001b[39m \u001b[39mself\u001b[39m\u001b[39m.\u001b[39m_select_forward_and_backward_functions(\n\u001b[0;32m   1760\u001b[0m     args,\n\u001b[0;32m   1761\u001b[0m     possible_gradient_type,\n\u001b[0;32m   1762\u001b[0m     executing_eagerly)\n\u001b[0;32m   1763\u001b[0m forward_function, args_with_tangents \u001b[39m=\u001b[39m forward_backward\u001b[39m.\u001b[39mforward()\n",
      "File \u001b[1;32mc:\\Users\\swapn\\code\\Music Generation using Deep Learning\\.venv\\Lib\\site-packages\\tensorflow\\python\\eager\\polymorphic_function\\monomorphic_function.py:381\u001b[0m, in \u001b[0;36m_EagerDefinedFunction.call\u001b[1;34m(self, ctx, args, cancellation_manager)\u001b[0m\n\u001b[0;32m    379\u001b[0m \u001b[39mwith\u001b[39;00m _InterpolateFunctionError(\u001b[39mself\u001b[39m):\n\u001b[0;32m    380\u001b[0m   \u001b[39mif\u001b[39;00m cancellation_manager \u001b[39mis\u001b[39;00m \u001b[39mNone\u001b[39;00m:\n\u001b[1;32m--> 381\u001b[0m     outputs \u001b[39m=\u001b[39m execute\u001b[39m.\u001b[39;49mexecute(\n\u001b[0;32m    382\u001b[0m         \u001b[39mstr\u001b[39;49m(\u001b[39mself\u001b[39;49m\u001b[39m.\u001b[39;49msignature\u001b[39m.\u001b[39;49mname),\n\u001b[0;32m    383\u001b[0m         num_outputs\u001b[39m=\u001b[39;49m\u001b[39mself\u001b[39;49m\u001b[39m.\u001b[39;49m_num_outputs,\n\u001b[0;32m    384\u001b[0m         inputs\u001b[39m=\u001b[39;49margs,\n\u001b[0;32m    385\u001b[0m         attrs\u001b[39m=\u001b[39;49mattrs,\n\u001b[0;32m    386\u001b[0m         ctx\u001b[39m=\u001b[39;49mctx)\n\u001b[0;32m    387\u001b[0m   \u001b[39melse\u001b[39;00m:\n\u001b[0;32m    388\u001b[0m     outputs \u001b[39m=\u001b[39m execute\u001b[39m.\u001b[39mexecute_with_cancellation(\n\u001b[0;32m    389\u001b[0m         \u001b[39mstr\u001b[39m(\u001b[39mself\u001b[39m\u001b[39m.\u001b[39msignature\u001b[39m.\u001b[39mname),\n\u001b[0;32m    390\u001b[0m         num_outputs\u001b[39m=\u001b[39m\u001b[39mself\u001b[39m\u001b[39m.\u001b[39m_num_outputs,\n\u001b[1;32m   (...)\u001b[0m\n\u001b[0;32m    393\u001b[0m         ctx\u001b[39m=\u001b[39mctx,\n\u001b[0;32m    394\u001b[0m         cancellation_manager\u001b[39m=\u001b[39mcancellation_manager)\n",
      "File \u001b[1;32mc:\\Users\\swapn\\code\\Music Generation using Deep Learning\\.venv\\Lib\\site-packages\\tensorflow\\python\\eager\\execute.py:52\u001b[0m, in \u001b[0;36mquick_execute\u001b[1;34m(op_name, num_outputs, inputs, attrs, ctx, name)\u001b[0m\n\u001b[0;32m     50\u001b[0m \u001b[39mtry\u001b[39;00m:\n\u001b[0;32m     51\u001b[0m   ctx\u001b[39m.\u001b[39mensure_initialized()\n\u001b[1;32m---> 52\u001b[0m   tensors \u001b[39m=\u001b[39m pywrap_tfe\u001b[39m.\u001b[39;49mTFE_Py_Execute(ctx\u001b[39m.\u001b[39;49m_handle, device_name, op_name,\n\u001b[0;32m     53\u001b[0m                                       inputs, attrs, num_outputs)\n\u001b[0;32m     54\u001b[0m \u001b[39mexcept\u001b[39;00m core\u001b[39m.\u001b[39m_NotOkStatusException \u001b[39mas\u001b[39;00m e:\n\u001b[0;32m     55\u001b[0m   \u001b[39mif\u001b[39;00m name \u001b[39mis\u001b[39;00m \u001b[39mnot\u001b[39;00m \u001b[39mNone\u001b[39;00m:\n",
      "\u001b[1;31mKeyboardInterrupt\u001b[0m: "
     ]
    }
   ],
   "source": [
    "epochs = 10\n",
    "\n",
    "print(\"Training in progress...\")\n",
    "train(model, network_in, network_out, epochs)\n",
    "print(\"Training completed\")"
   ]
  },
  {
   "cell_type": "code",
   "execution_count": null,
   "metadata": {},
   "outputs": [],
   "source": [
    "# def train_network():\n",
    "#     \"\"\" train the neural network \"\"\"\n",
    "#     # epochs = 200\n",
    "#     epochs = 5\n",
    "\n",
    "#     all_midis_stream = load_midi(file_path)\n",
    "\n",
    "#     notes  = get_notes(all_midis_stream)\n",
    "#     print(\"Notes generated\")\n",
    "#     n_vocab = len(set(notes))\n",
    "#     print(\"Vocab generated\")\n",
    "\n",
    "#     # print(\"Total notes in all the 2004 midis in the dataset:\", len(notes))\n",
    "#     # print(\"Total durations in all the 2004 midis in the dataset:\", len(DURATION))\n",
    "\n",
    "#     network_in, network_out = prepare_sequences(notes, n_vocab)\n",
    "#     print(\"Network input and output generated\")\n",
    "\n",
    "#     model = create_network(network_in, n_vocab)\n",
    "#     print(\"Model created\")\n",
    "#     model.summary()\n",
    "\n",
    "#     print(\"Training in progress...\")\n",
    "#     train(model, network_in, network_out, epochs)\n",
    "#     print(\"Training completed\")\n"
   ]
  },
  {
   "cell_type": "code",
   "execution_count": 15,
   "metadata": {},
   "outputs": [
    {
     "data": {
      "text/plain": [
       "False"
      ]
     },
     "execution_count": 15,
     "metadata": {},
     "output_type": "execute_result"
    }
   ],
   "source": [
    "# train_network()"
   ]
  },
  {
   "cell_type": "code",
   "execution_count": null,
   "metadata": {},
   "outputs": [],
   "source": [
    "# generate graphs\n",
    "\n",
    "def generate_graphs():\n",
    "    \"\"\" Generate graphs for loss and accuracy \"\"\"\n",
    "    loss = []\n",
    "    val_loss = []\n",
    "    acc = []\n",
    "    val_acc = []\n",
    "\n",
    "    with open('logs/loss.txt', 'r') as f:\n",
    "        for line in f:\n",
    "            loss.append(float(line.strip()))\n",
    "\n",
    "    with open('logs/val_loss.txt', 'r') as f:\n",
    "        for line in f:\n",
    "            val_loss.append(float(line.strip()))\n",
    "\n",
    "    with open('logs/acc.txt', 'r') as f:\n",
    "        for line in f:\n",
    "            acc.append(float(line.strip()))\n",
    "\n",
    "    with open('logs/val_acc.txt', 'r') as f:\n",
    "        for line in f:\n",
    "            val_acc.append(float(line.strip()))\n",
    "\n",
    "    plt.plot(loss)\n",
    "    plt.plot(val_loss)\n",
    "    plt.title('model loss')\n",
    "    plt.ylabel('loss')\n",
    "    plt.xlabel('epoch')\n",
    "    plt.legend(['train', 'validation'])\n",
    "    plt.savefig('loss.png')\n",
    "\n",
    "    plt.plot(acc)\n",
    "    plt.plot(val_acc)\n",
    "    plt.title('model accuracy')\n",
    "    plt.ylabel('accuracy')\n",
    "    plt.xlabel('epoch')\n",
    "    plt.legend(['train', 'validation'])\n",
    "    plt.savefig('accuracy.png')\n",
    "\n",
    "generate_graphs()"
   ]
  }
 ],
 "metadata": {
  "kernelspec": {
   "display_name": ".venv",
   "language": "python",
   "name": "python3"
  },
  "language_info": {
   "codemirror_mode": {
    "name": "ipython",
    "version": 3
   },
   "file_extension": ".py",
   "mimetype": "text/x-python",
   "name": "python",
   "nbconvert_exporter": "python",
   "pygments_lexer": "ipython3",
   "version": "3.11.2"
  },
  "orig_nbformat": 4,
  "vscode": {
   "interpreter": {
    "hash": "04bcf3e8d3996257ff2356ec82916815962c9a687d6f8714b5054a1c7023f668"
   }
  }
 },
 "nbformat": 4,
 "nbformat_minor": 2
}
