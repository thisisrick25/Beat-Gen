{
 "cells": [
  {
   "attachments": {},
   "cell_type": "markdown",
   "metadata": {},
   "source": [
    "# import the libraries"
   ]
  },
  {
   "cell_type": "code",
   "execution_count": 1,
   "metadata": {},
   "outputs": [],
   "source": [
    "import os\n",
    "import sys\n",
    "\n",
    "import numpy as np\n",
    "from tqdm import tqdm\n",
    "\n",
    "# import IPython\n",
    "from IPython.display import Audio\n",
    "from pretty_midi import PrettyMIDI\n",
    "# import fluidsynth\n",
    "\n",
    "from music21 import midi, converter, instrument, note, chord, stream\n",
    "from midi2audio import FluidSynth\n",
    "\n"
   ]
  },
  {
   "attachments": {},
   "cell_type": "markdown",
   "metadata": {},
   "source": [
    "# file path\n",
    "##### *file_path = './maestro-v3.0.0-midi/maestro-v3.0.0/'*"
   ]
  },
  {
   "cell_type": "code",
   "execution_count": 2,
   "metadata": {},
   "outputs": [],
   "source": [
    "file_path = './maestro-v3.0.0-midi/maestro-v3.0.0/2004/'"
   ]
  },
  {
   "attachments": {},
   "cell_type": "markdown",
   "metadata": {},
   "source": [
    "# list midi\n",
    "##### print all the midi files"
   ]
  },
  {
   "cell_type": "code",
   "execution_count": 3,
   "metadata": {},
   "outputs": [
    {
     "name": "stdout",
     "output_type": "stream",
     "text": [
      "./maestro-v3.0.0-midi/maestro-v3.0.0/2004/MIDI-Unprocessed_SMF_02_R1_2004_01-05_ORIG_MID--AUDIO_02_R1_2004_05_Track05_wav.midi\n",
      "./maestro-v3.0.0-midi/maestro-v3.0.0/2004/MIDI-Unprocessed_SMF_02_R1_2004_01-05_ORIG_MID--AUDIO_02_R1_2004_06_Track06_wav.midi\n",
      "./maestro-v3.0.0-midi/maestro-v3.0.0/2004/MIDI-Unprocessed_SMF_02_R1_2004_01-05_ORIG_MID--AUDIO_02_R1_2004_08_Track08_wav.midi\n",
      "./maestro-v3.0.0-midi/maestro-v3.0.0/2004/MIDI-Unprocessed_SMF_02_R1_2004_01-05_ORIG_MID--AUDIO_02_R1_2004_10_Track10_wav.midi\n",
      "./maestro-v3.0.0-midi/maestro-v3.0.0/2004/MIDI-Unprocessed_SMF_05_R1_2004_01_ORIG_MID--AUDIO_05_R1_2004_02_Track02_wav.midi\n",
      "./maestro-v3.0.0-midi/maestro-v3.0.0/2004/MIDI-Unprocessed_SMF_05_R1_2004_01_ORIG_MID--AUDIO_05_R1_2004_03_Track03_wav.midi\n",
      "./maestro-v3.0.0-midi/maestro-v3.0.0/2004/MIDI-Unprocessed_SMF_05_R1_2004_02-03_ORIG_MID--AUDIO_05_R1_2004_06_Track06_wav.midi\n",
      "./maestro-v3.0.0-midi/maestro-v3.0.0/2004/MIDI-Unprocessed_SMF_07_R1_2004_01_ORIG_MID--AUDIO_07_R1_2004_02_Track02_wav.midi\n",
      "./maestro-v3.0.0-midi/maestro-v3.0.0/2004/MIDI-Unprocessed_SMF_07_R1_2004_01_ORIG_MID--AUDIO_07_R1_2004_04_Track04_wav.midi\n",
      "./maestro-v3.0.0-midi/maestro-v3.0.0/2004/MIDI-Unprocessed_SMF_07_R1_2004_01_ORIG_MID--AUDIO_07_R1_2004_06_Track06_wav.midi\n",
      "./maestro-v3.0.0-midi/maestro-v3.0.0/2004/MIDI-Unprocessed_SMF_07_R1_2004_01_ORIG_MID--AUDIO_07_R1_2004_12_Track12_wav.midi\n",
      "./maestro-v3.0.0-midi/maestro-v3.0.0/2004/MIDI-Unprocessed_SMF_12_01_2004_01-05_ORIG_MID--AUDIO_12_R1_2004_03_Track03_wav--1.midi\n",
      "./maestro-v3.0.0-midi/maestro-v3.0.0/2004/MIDI-Unprocessed_SMF_12_01_2004_01-05_ORIG_MID--AUDIO_12_R1_2004_07_Track07_wav.midi\n",
      "./maestro-v3.0.0-midi/maestro-v3.0.0/2004/MIDI-Unprocessed_SMF_12_01_2004_01-05_ORIG_MID--AUDIO_12_R1_2004_08_Track08_wav.midi\n",
      "./maestro-v3.0.0-midi/maestro-v3.0.0/2004/MIDI-Unprocessed_SMF_12_01_2004_01-05_ORIG_MID--AUDIO_12_R1_2004_09_Track09_wav.midi\n",
      "./maestro-v3.0.0-midi/maestro-v3.0.0/2004/MIDI-Unprocessed_SMF_12_01_2004_01-05_ORIG_MID--AUDIO_12_R1_2004_10_Track10_wav.midi\n",
      "./maestro-v3.0.0-midi/maestro-v3.0.0/2004/MIDI-Unprocessed_SMF_13_01_2004_01-05_ORIG_MID--AUDIO_13_R1_2004_02_Track02_wav.midi\n",
      "./maestro-v3.0.0-midi/maestro-v3.0.0/2004/MIDI-Unprocessed_SMF_13_01_2004_01-05_ORIG_MID--AUDIO_13_R1_2004_05_Track05_wav.midi\n",
      "./maestro-v3.0.0-midi/maestro-v3.0.0/2004/MIDI-Unprocessed_SMF_13_01_2004_01-05_ORIG_MID--AUDIO_13_R1_2004_08_Track08_wav.midi\n",
      "./maestro-v3.0.0-midi/maestro-v3.0.0/2004/MIDI-Unprocessed_SMF_13_01_2004_01-05_ORIG_MID--AUDIO_13_R1_2004_09_Track09_wav.midi\n",
      "./maestro-v3.0.0-midi/maestro-v3.0.0/2004/MIDI-Unprocessed_SMF_13_01_2004_01-05_ORIG_MID--AUDIO_13_R1_2004_10_Track10_wav.midi\n",
      "./maestro-v3.0.0-midi/maestro-v3.0.0/2004/MIDI-Unprocessed_SMF_13_01_2004_01-05_ORIG_MID--AUDIO_13_R1_2004_12_Track12_wav.midi\n",
      "./maestro-v3.0.0-midi/maestro-v3.0.0/2004/MIDI-Unprocessed_SMF_16_R1_2004_01-08_ORIG_MID--AUDIO_16_R1_2004_02_Track02_wav.midi\n",
      "./maestro-v3.0.0-midi/maestro-v3.0.0/2004/MIDI-Unprocessed_SMF_16_R1_2004_01-08_ORIG_MID--AUDIO_16_R1_2004_03_Track03_wav.midi\n",
      "./maestro-v3.0.0-midi/maestro-v3.0.0/2004/MIDI-Unprocessed_SMF_16_R1_2004_01-08_ORIG_MID--AUDIO_16_R1_2004_04_Track04_wav.midi\n",
      "./maestro-v3.0.0-midi/maestro-v3.0.0/2004/MIDI-Unprocessed_SMF_16_R1_2004_01-08_ORIG_MID--AUDIO_16_R1_2004_05_Track05_wav.midi\n",
      "./maestro-v3.0.0-midi/maestro-v3.0.0/2004/MIDI-Unprocessed_SMF_16_R1_2004_01-08_ORIG_MID--AUDIO_16_R1_2004_06_Track06_wav.midi\n",
      "./maestro-v3.0.0-midi/maestro-v3.0.0/2004/MIDI-Unprocessed_SMF_16_R1_2004_01-08_ORIG_MID--AUDIO_16_R1_2004_08_Track08_wav.midi\n",
      "./maestro-v3.0.0-midi/maestro-v3.0.0/2004/MIDI-Unprocessed_SMF_16_R1_2004_01-08_ORIG_MID--AUDIO_16_R1_2004_13_Track13_wav.midi\n",
      "./maestro-v3.0.0-midi/maestro-v3.0.0/2004/MIDI-Unprocessed_SMF_17_R1_2004_01-02_ORIG_MID--AUDIO_20_R2_2004_02_Track02_wav.midi\n",
      "./maestro-v3.0.0-midi/maestro-v3.0.0/2004/MIDI-Unprocessed_SMF_17_R1_2004_01-02_ORIG_MID--AUDIO_20_R2_2004_04_Track04_wav.midi\n",
      "./maestro-v3.0.0-midi/maestro-v3.0.0/2004/MIDI-Unprocessed_SMF_17_R1_2004_01-02_ORIG_MID--AUDIO_20_R2_2004_06_Track06_wav.midi\n",
      "./maestro-v3.0.0-midi/maestro-v3.0.0/2004/MIDI-Unprocessed_SMF_17_R1_2004_01-03_ORIG_MID--AUDIO_17_R1_2004_02_Track02_wav--1.midi\n",
      "./maestro-v3.0.0-midi/maestro-v3.0.0/2004/MIDI-Unprocessed_SMF_17_R1_2004_01-03_ORIG_MID--AUDIO_17_R1_2004_02_Track02_wav--2.midi\n",
      "./maestro-v3.0.0-midi/maestro-v3.0.0/2004/MIDI-Unprocessed_SMF_17_R1_2004_01-03_ORIG_MID--AUDIO_17_R1_2004_03_Track03_wav.midi\n",
      "./maestro-v3.0.0-midi/maestro-v3.0.0/2004/MIDI-Unprocessed_SMF_17_R1_2004_01-03_ORIG_MID--AUDIO_17_R1_2004_06_Track06_wav.midi\n",
      "./maestro-v3.0.0-midi/maestro-v3.0.0/2004/MIDI-Unprocessed_SMF_17_R1_2004_03-06_ORIG_MID--AUDIO_20_R2_2004_08_Track08_wav.midi\n",
      "./maestro-v3.0.0-midi/maestro-v3.0.0/2004/MIDI-Unprocessed_SMF_17_R1_2004_03-06_ORIG_MID--AUDIO_20_R2_2004_12_Track12_wav--1.midi\n",
      "./maestro-v3.0.0-midi/maestro-v3.0.0/2004/MIDI-Unprocessed_SMF_17_R1_2004_03-06_ORIG_MID--AUDIO_20_R2_2004_12_Track12_wav--2.midi\n",
      "./maestro-v3.0.0-midi/maestro-v3.0.0/2004/MIDI-Unprocessed_SMF_17_R1_2004_04_ORIG_MID--AUDIO_17_R1_2004_09_Track09_wav.midi\n",
      "./maestro-v3.0.0-midi/maestro-v3.0.0/2004/MIDI-Unprocessed_SMF_17_R1_2004_04_ORIG_MID--AUDIO_17_R1_2004_11_Track11_wav.midi\n",
      "./maestro-v3.0.0-midi/maestro-v3.0.0/2004/MIDI-Unprocessed_SMF_22_R1_2004_01-04_ORIG_MID--AUDIO_22_R1_2004_03_Track03_wav.midi\n",
      "./maestro-v3.0.0-midi/maestro-v3.0.0/2004/MIDI-Unprocessed_SMF_22_R1_2004_01-04_ORIG_MID--AUDIO_22_R1_2004_05_Track05_wav.midi\n",
      "./maestro-v3.0.0-midi/maestro-v3.0.0/2004/MIDI-Unprocessed_SMF_22_R1_2004_01-04_ORIG_MID--AUDIO_22_R1_2004_10_Track10_wav.midi\n",
      "./maestro-v3.0.0-midi/maestro-v3.0.0/2004/MIDI-Unprocessed_SMF_22_R1_2004_01-04_ORIG_MID--AUDIO_22_R1_2004_17_Track17_wav.midi\n",
      "./maestro-v3.0.0-midi/maestro-v3.0.0/2004/MIDI-Unprocessed_XP_01_R1_2004_01-02_ORIG_MID--AUDIO_01_R1_2004_02_Track02_wav.midi\n",
      "./maestro-v3.0.0-midi/maestro-v3.0.0/2004/MIDI-Unprocessed_XP_01_R1_2004_01-02_ORIG_MID--AUDIO_01_R1_2004_03_Track03_wav.midi\n",
      "./maestro-v3.0.0-midi/maestro-v3.0.0/2004/MIDI-Unprocessed_XP_01_R1_2004_03_ORIG_MID--AUDIO_01_R1_2004_04_Track04_wav.midi\n",
      "./maestro-v3.0.0-midi/maestro-v3.0.0/2004/MIDI-Unprocessed_XP_01_R1_2004_04-05_ORIG_MID--AUDIO_01_R1_2004_05_Track05_wav.midi\n",
      "./maestro-v3.0.0-midi/maestro-v3.0.0/2004/MIDI-Unprocessed_XP_01_R1_2004_04-05_ORIG_MID--AUDIO_01_R1_2004_06_Track06_wav.midi\n",
      "./maestro-v3.0.0-midi/maestro-v3.0.0/2004/MIDI-Unprocessed_XP_03_R1_2004_01-02_ORIG_MID--AUDIO_03_R1_2004_01_Track01_wav.midi\n",
      "./maestro-v3.0.0-midi/maestro-v3.0.0/2004/MIDI-Unprocessed_XP_03_R1_2004_01-02_ORIG_MID--AUDIO_03_R1_2004_02_Track02_wav.midi\n",
      "./maestro-v3.0.0-midi/maestro-v3.0.0/2004/MIDI-Unprocessed_XP_04_R1_2004_01-02_ORIG_MID--AUDIO_04_R1_2004_01_Track01_wav.midi\n",
      "./maestro-v3.0.0-midi/maestro-v3.0.0/2004/MIDI-Unprocessed_XP_04_R1_2004_01-02_ORIG_MID--AUDIO_04_R1_2004_02_Track02_wav.midi\n",
      "./maestro-v3.0.0-midi/maestro-v3.0.0/2004/MIDI-Unprocessed_XP_04_R1_2004_03-05_ORIG_MID--AUDIO_04_R1_2004_04_Track04_wav.midi\n",
      "./maestro-v3.0.0-midi/maestro-v3.0.0/2004/MIDI-Unprocessed_XP_04_R1_2004_03-05_ORIG_MID--AUDIO_04_R1_2004_05_Track05_wav.midi\n",
      "./maestro-v3.0.0-midi/maestro-v3.0.0/2004/MIDI-Unprocessed_XP_04_R1_2004_03-05_ORIG_MID--AUDIO_04_R1_2004_06_Track06_wav.midi\n",
      "./maestro-v3.0.0-midi/maestro-v3.0.0/2004/MIDI-Unprocessed_XP_04_R1_2004_06_ORIG_MID--AUDIO_04_R1_2004_08_Track08_wav.midi\n",
      "./maestro-v3.0.0-midi/maestro-v3.0.0/2004/MIDI-Unprocessed_XP_04_R2_2004_01_ORIG_MID--AUDIO_04_R2_2004_01_Track01_wav.midi\n",
      "./maestro-v3.0.0-midi/maestro-v3.0.0/2004/MIDI-Unprocessed_XP_04_R2_2004_01_ORIG_MID--AUDIO_04_R2_2004_02_Track02_wav.midi\n",
      "./maestro-v3.0.0-midi/maestro-v3.0.0/2004/MIDI-Unprocessed_XP_06_R1_2004_01_ORIG_MID--AUDIO_06_R1_2004_01_Track01_wav.midi\n",
      "./maestro-v3.0.0-midi/maestro-v3.0.0/2004/MIDI-Unprocessed_XP_06_R1_2004_02-03_ORIG_MID--AUDIO_06_R1_2004_05_Track05_wav.midi\n",
      "./maestro-v3.0.0-midi/maestro-v3.0.0/2004/MIDI-Unprocessed_XP_06_R2_2004_01_ORIG_MID--AUDIO_06_R2_2004_01_Track01_wav.midi\n",
      "./maestro-v3.0.0-midi/maestro-v3.0.0/2004/MIDI-Unprocessed_XP_06_R2_2004_01_ORIG_MID--AUDIO_06_R2_2004_02_Track02_wav.midi\n",
      "./maestro-v3.0.0-midi/maestro-v3.0.0/2004/MIDI-Unprocessed_XP_06_R2_2004_01_ORIG_MID--AUDIO_06_R2_2004_03_Track03_wav.midi\n",
      "./maestro-v3.0.0-midi/maestro-v3.0.0/2004/MIDI-Unprocessed_XP_08_R1_2004_01-02_ORIG_MID--AUDIO_08_R1_2004_01_Track01_wav.midi\n",
      "./maestro-v3.0.0-midi/maestro-v3.0.0/2004/MIDI-Unprocessed_XP_08_R1_2004_01-02_ORIG_MID--AUDIO_08_R1_2004_02_Track02_wav.midi\n",
      "./maestro-v3.0.0-midi/maestro-v3.0.0/2004/MIDI-Unprocessed_XP_08_R1_2004_03_ORIG_MID--AUDIO_08_R1_2004_03_Track03_wav.midi\n",
      "./maestro-v3.0.0-midi/maestro-v3.0.0/2004/MIDI-Unprocessed_XP_08_R1_2004_04-06_ORIG_MID--AUDIO_08_R1_2004_04_Track04_wav.midi\n",
      "./maestro-v3.0.0-midi/maestro-v3.0.0/2004/MIDI-Unprocessed_XP_08_R1_2004_04-06_ORIG_MID--AUDIO_08_R1_2004_05_Track05_wav--1.midi\n",
      "./maestro-v3.0.0-midi/maestro-v3.0.0/2004/MIDI-Unprocessed_XP_08_R1_2004_04-06_ORIG_MID--AUDIO_08_R1_2004_05_Track05_wav--2.midi\n",
      "./maestro-v3.0.0-midi/maestro-v3.0.0/2004/MIDI-Unprocessed_XP_09_R1_2004_01-02_ORIG_MID--AUDIO_09_R1_2004_01_Track01_wav.midi\n",
      "./maestro-v3.0.0-midi/maestro-v3.0.0/2004/MIDI-Unprocessed_XP_09_R1_2004_01-02_ORIG_MID--AUDIO_09_R1_2004_02_Track02_wav.midi\n",
      "./maestro-v3.0.0-midi/maestro-v3.0.0/2004/MIDI-Unprocessed_XP_09_R1_2004_01-02_ORIG_MID--AUDIO_09_R1_2004_03_Track03_wav.midi\n",
      "./maestro-v3.0.0-midi/maestro-v3.0.0/2004/MIDI-Unprocessed_XP_09_R1_2004_05_ORIG_MID--AUDIO_09_R1_2004_06_Track06_wav.midi\n",
      "./maestro-v3.0.0-midi/maestro-v3.0.0/2004/MIDI-Unprocessed_XP_09_R1_2004_05_ORIG_MID--AUDIO_09_R1_2004_07_Track07_wav.midi\n",
      "./maestro-v3.0.0-midi/maestro-v3.0.0/2004/MIDI-Unprocessed_XP_09_R1_2004_05_ORIG_MID--AUDIO_09_R1_2004_08_Track08_wav.midi\n",
      "./maestro-v3.0.0-midi/maestro-v3.0.0/2004/MIDI-Unprocessed_XP_10_R1_2004_01-02_ORIG_MID--AUDIO_10_R1_2004_01_Track01_wav.midi\n",
      "./maestro-v3.0.0-midi/maestro-v3.0.0/2004/MIDI-Unprocessed_XP_10_R1_2004_01-02_ORIG_MID--AUDIO_10_R1_2004_02_Track02_wav.midi\n",
      "./maestro-v3.0.0-midi/maestro-v3.0.0/2004/MIDI-Unprocessed_XP_10_R1_2004_03-04_ORIG_MID--AUDIO_10_R1_2004_03_Track03_wav.midi\n",
      "./maestro-v3.0.0-midi/maestro-v3.0.0/2004/MIDI-Unprocessed_XP_10_R1_2004_05_ORIG_MID--AUDIO_10_R1_2004_05_Track05_wav.midi\n",
      "./maestro-v3.0.0-midi/maestro-v3.0.0/2004/MIDI-Unprocessed_XP_11_R1_2004_01-02_ORIG_MID--AUDIO_11_R1_2004_01_Track01_wav.midi\n",
      "./maestro-v3.0.0-midi/maestro-v3.0.0/2004/MIDI-Unprocessed_XP_11_R1_2004_01-02_ORIG_MID--AUDIO_11_R1_2004_02_Track02_wav.midi\n",
      "./maestro-v3.0.0-midi/maestro-v3.0.0/2004/MIDI-Unprocessed_XP_11_R1_2004_03-04_ORIG_MID--AUDIO_11_R1_2004_03_Track03_wav.midi\n",
      "./maestro-v3.0.0-midi/maestro-v3.0.0/2004/MIDI-Unprocessed_XP_11_R1_2004_03-04_ORIG_MID--AUDIO_11_R1_2004_04_Track04_wav.midi\n",
      "./maestro-v3.0.0-midi/maestro-v3.0.0/2004/MIDI-Unprocessed_XP_14_R1_2004_01-03_ORIG_MID--AUDIO_14_R1_2004_01_Track01_wav.midi\n",
      "./maestro-v3.0.0-midi/maestro-v3.0.0/2004/MIDI-Unprocessed_XP_14_R1_2004_01-03_ORIG_MID--AUDIO_14_R1_2004_03_Track03_wav.midi\n",
      "./maestro-v3.0.0-midi/maestro-v3.0.0/2004/MIDI-Unprocessed_XP_14_R1_2004_04_ORIG_MID--AUDIO_14_R1_2004_04_Track04_wav.midi\n",
      "./maestro-v3.0.0-midi/maestro-v3.0.0/2004/MIDI-Unprocessed_XP_14_R1_2004_04_ORIG_MID--AUDIO_14_R1_2004_05_Track05_wav.midi\n",
      "./maestro-v3.0.0-midi/maestro-v3.0.0/2004/MIDI-Unprocessed_XP_14_R1_2004_04_ORIG_MID--AUDIO_14_R1_2004_06_Track06_wav.midi\n",
      "./maestro-v3.0.0-midi/maestro-v3.0.0/2004/MIDI-Unprocessed_XP_14_R2_2004_01_ORIG_MID--AUDIO_14_R2_2004_01_Track01_wav.midi\n",
      "./maestro-v3.0.0-midi/maestro-v3.0.0/2004/MIDI-Unprocessed_XP_14_R2_2004_01_ORIG_MID--AUDIO_14_R2_2004_02_Track02_wav.midi\n",
      "./maestro-v3.0.0-midi/maestro-v3.0.0/2004/MIDI-Unprocessed_XP_14_R2_2004_01_ORIG_MID--AUDIO_14_R2_2004_03_Track03_wav.midi\n",
      "./maestro-v3.0.0-midi/maestro-v3.0.0/2004/MIDI-Unprocessed_XP_14_R2_2004_01_ORIG_MID--AUDIO_14_R2_2004_04_Track04_wav.midi\n",
      "./maestro-v3.0.0-midi/maestro-v3.0.0/2004/MIDI-Unprocessed_XP_15_R1_2004_01-02_ORIG_MID--AUDIO_15_R1_2004_01_Track01_wav.midi\n",
      "./maestro-v3.0.0-midi/maestro-v3.0.0/2004/MIDI-Unprocessed_XP_15_R1_2004_01-02_ORIG_MID--AUDIO_15_R1_2004_02_Track02_wav.midi\n",
      "./maestro-v3.0.0-midi/maestro-v3.0.0/2004/MIDI-Unprocessed_XP_15_R1_2004_03_ORIG_MID--AUDIO_15_R1_2004_03_Track03_wav.midi\n",
      "./maestro-v3.0.0-midi/maestro-v3.0.0/2004/MIDI-Unprocessed_XP_15_R1_2004_04_ORIG_MID--AUDIO_15_R1_2004_04_Track04_wav.midi\n",
      "./maestro-v3.0.0-midi/maestro-v3.0.0/2004/MIDI-Unprocessed_XP_15_R2_2004_01_ORIG_MID--AUDIO_15_R2_2004_01_Track01_wav.midi\n",
      "./maestro-v3.0.0-midi/maestro-v3.0.0/2004/MIDI-Unprocessed_XP_15_R2_2004_01_ORIG_MID--AUDIO_15_R2_2004_02_Track02_wav.midi\n",
      "./maestro-v3.0.0-midi/maestro-v3.0.0/2004/MIDI-Unprocessed_XP_15_R2_2004_01_ORIG_MID--AUDIO_15_R2_2004_03_Track03_wav.midi\n",
      "./maestro-v3.0.0-midi/maestro-v3.0.0/2004/MIDI-Unprocessed_XP_15_R2_2004_01_ORIG_MID--AUDIO_15_R2_2004_04_Track04_wav.midi\n",
      "./maestro-v3.0.0-midi/maestro-v3.0.0/2004/MIDI-Unprocessed_XP_16_R2_2004_01_ORIG_MID--AUDIO_16_R2_2004_01_Track01_wav.midi\n",
      "./maestro-v3.0.0-midi/maestro-v3.0.0/2004/MIDI-Unprocessed_XP_16_R2_2004_01_ORIG_MID--AUDIO_16_R2_2004_02_Track02_wav.midi\n",
      "./maestro-v3.0.0-midi/maestro-v3.0.0/2004/MIDI-Unprocessed_XP_16_R2_2004_01_ORIG_MID--AUDIO_16_R2_2004_03_Track03_wav.midi\n",
      "./maestro-v3.0.0-midi/maestro-v3.0.0/2004/MIDI-Unprocessed_XP_16_R2_2004_01_ORIG_MID--AUDIO_16_R2_2004_04_Track04_wav.midi\n",
      "./maestro-v3.0.0-midi/maestro-v3.0.0/2004/MIDI-Unprocessed_XP_17_R2_2004_01_ORIG_MID--AUDIO_17_R2_2004_01_Track01_wav.midi\n",
      "./maestro-v3.0.0-midi/maestro-v3.0.0/2004/MIDI-Unprocessed_XP_17_R2_2004_01_ORIG_MID--AUDIO_17_R2_2004_02_Track02_wav.midi\n",
      "./maestro-v3.0.0-midi/maestro-v3.0.0/2004/MIDI-Unprocessed_XP_17_R2_2004_01_ORIG_MID--AUDIO_17_R2_2004_03_Track03_wav.midi\n",
      "./maestro-v3.0.0-midi/maestro-v3.0.0/2004/MIDI-Unprocessed_XP_17_R2_2004_01_ORIG_MID--AUDIO_17_R2_2004_04_Track04_wav.midi\n",
      "./maestro-v3.0.0-midi/maestro-v3.0.0/2004/MIDI-Unprocessed_XP_18_R1_2004_01-02_ORIG_MID--AUDIO_18_R1_2004_02_Track02_wav.midi\n",
      "./maestro-v3.0.0-midi/maestro-v3.0.0/2004/MIDI-Unprocessed_XP_18_R1_2004_01-02_ORIG_MID--AUDIO_18_R1_2004_03_Track03_wav.midi\n",
      "./maestro-v3.0.0-midi/maestro-v3.0.0/2004/MIDI-Unprocessed_XP_18_R1_2004_01-02_ORIG_MID--AUDIO_18_R1_2004_04_Track04_wav.midi\n",
      "./maestro-v3.0.0-midi/maestro-v3.0.0/2004/MIDI-Unprocessed_XP_18_R1_2004_01-02_ORIG_MID--AUDIO_18_R1_2004_05_Track05_wav.midi\n",
      "./maestro-v3.0.0-midi/maestro-v3.0.0/2004/MIDI-Unprocessed_XP_18_R1_2004_04_ORIG_MID--AUDIO_18_R1_2004_07_Track07_wav.midi\n",
      "./maestro-v3.0.0-midi/maestro-v3.0.0/2004/MIDI-Unprocessed_XP_19_R1_2004_01-02_ORIG_MID--AUDIO_19_R1_2004_01_Track01_wav.midi\n",
      "./maestro-v3.0.0-midi/maestro-v3.0.0/2004/MIDI-Unprocessed_XP_19_R1_2004_01-02_ORIG_MID--AUDIO_19_R1_2004_02_Track02_wav.midi\n",
      "./maestro-v3.0.0-midi/maestro-v3.0.0/2004/MIDI-Unprocessed_XP_19_R1_2004_01-02_ORIG_MID--AUDIO_19_R1_2004_03_Track03_wav.midi\n",
      "./maestro-v3.0.0-midi/maestro-v3.0.0/2004/MIDI-Unprocessed_XP_19_R2_2004_01_ORIG_MID--AUDIO_19_R2_2004_01_Track01_wav.midi\n",
      "./maestro-v3.0.0-midi/maestro-v3.0.0/2004/MIDI-Unprocessed_XP_19_R2_2004_01_ORIG_MID--AUDIO_19_R2_2004_02_Track02_wav.midi\n",
      "./maestro-v3.0.0-midi/maestro-v3.0.0/2004/MIDI-Unprocessed_XP_19_R2_2004_01_ORIG_MID--AUDIO_19_R2_2004_03_Track03_wav.midi\n",
      "./maestro-v3.0.0-midi/maestro-v3.0.0/2004/MIDI-Unprocessed_XP_20_R2_2004_01_ORIG_MID--AUDIO_20_R1_2004_01_Track01_wav.midi\n",
      "./maestro-v3.0.0-midi/maestro-v3.0.0/2004/MIDI-Unprocessed_XP_20_R2_2004_01_ORIG_MID--AUDIO_20_R1_2004_02_Track02_wav.midi\n",
      "./maestro-v3.0.0-midi/maestro-v3.0.0/2004/MIDI-Unprocessed_XP_20_R2_2004_01_ORIG_MID--AUDIO_20_R1_2004_03_Track03_wav.midi\n",
      "./maestro-v3.0.0-midi/maestro-v3.0.0/2004/MIDI-Unprocessed_XP_21_R1_2004_01_ORIG_MID--AUDIO_21_R1_2004_01_Track01_wav.midi\n",
      "./maestro-v3.0.0-midi/maestro-v3.0.0/2004/MIDI-Unprocessed_XP_21_R1_2004_02_ORIG_MID--AUDIO_21_R1_2004_02_Track02_wav.midi\n",
      "./maestro-v3.0.0-midi/maestro-v3.0.0/2004/MIDI-Unprocessed_XP_21_R1_2004_02_ORIG_MID--AUDIO_21_R1_2004_03_Track03_wav.midi\n",
      "./maestro-v3.0.0-midi/maestro-v3.0.0/2004/MIDI-Unprocessed_XP_21_R1_2004_03_ORIG_MID--AUDIO_21_R1_2004_04_Track04_wav.midi\n",
      "./maestro-v3.0.0-midi/maestro-v3.0.0/2004/MIDI-Unprocessed_XP_22_R2_2004_01_ORIG_MID--AUDIO_22_R2_2004_01_Track01_wav.midi\n",
      "./maestro-v3.0.0-midi/maestro-v3.0.0/2004/MIDI-Unprocessed_XP_22_R2_2004_01_ORIG_MID--AUDIO_22_R2_2004_02_Track02_wav.midi\n",
      "./maestro-v3.0.0-midi/maestro-v3.0.0/2004/MIDI-Unprocessed_XP_22_R2_2004_01_ORIG_MID--AUDIO_22_R2_2004_03_Track03_wav.midi\n",
      "./maestro-v3.0.0-midi/maestro-v3.0.0/2004/MIDI-Unprocessed_XP_22_R2_2004_01_ORIG_MID--AUDIO_22_R2_2004_04_Track04_wav.midi\n"
     ]
    }
   ],
   "source": [
    "def list_midi(file_path):\n",
    "    for root, dirs, files in os.walk(file_path):\n",
    "        for file in files:\n",
    "            if file.endswith(\".midi\"):\n",
    "                print(os.path.join(root, file))\n",
    "\n",
    "list_midi(file_path)\n",
    "\n",
    "# import glob\n",
    "# def list_midi_glob(file_path):\n",
    "#     for file in glob.glob(os.path.join(file_path, '**/*.midi'), recursive=True):\n",
    "#         print(file)\n",
    "\n",
    "# list_midi_glob(file_path)"
   ]
  },
  {
   "attachments": {},
   "cell_type": "markdown",
   "metadata": {},
   "source": [
    "# play a midi file\n",
    "##### "
   ]
  },
  {
   "cell_type": "code",
   "execution_count": null,
   "metadata": {
    "notebookRunGroups": {
     "groupValue": ""
    }
   },
   "outputs": [],
   "source": [
    "# play midi using pretty_midi fluidsynth method\n",
    "\n",
    "def play_music(m):\n",
    "    midi_stream = midi.MidiFile()\n",
    "    midi_stream.open(m)\n",
    "    midi_stream.read()\n",
    "    midi_stream.close()\n",
    "    s = midi.translate.midiFileToStream(midi_stream)\n",
    "    s.show('midi')\n",
    "    # display(Audio(data=midi, rate=44100))\n",
    "    \n",
    "play_music(file_path + './MIDI-Unprocessed_XP_16_R2_2004_01_ORIG_MID--AUDIO_16_R2_2004_02_Track02_wav.midi')"
   ]
  },
  {
   "attachments": {},
   "cell_type": "markdown",
   "metadata": {},
   "source": [
    "# converting all the midi to stream object\n",
    "- We start by loading each file into a Music21 stream object using the converter.parse(file) function.\n",
    "\n",
    "- Using this stream object we get a list of all the notes and chords in the file.\n"
   ]
  },
  {
   "cell_type": "code",
   "execution_count": 4,
   "metadata": {},
   "outputs": [
    {
     "name": "stderr",
     "output_type": "stream",
     "text": [
      "100%|██████████| 132/132 [02:11<00:00,  1.00it/s]"
     ]
    },
    {
     "name": "stdout",
     "output_type": "stream",
     "text": [
      "Done loading midi files\n"
     ]
    },
    {
     "name": "stderr",
     "output_type": "stream",
     "text": [
      "\n"
     ]
    }
   ],
   "source": [
    "all_midis = []\n",
    "\n",
    "# edit the func below and use the for loop from list_midi to load all midi files\n",
    "\n",
    "def load_midi(file_path):\n",
    "    for i in tqdm(os.listdir(file_path)):\n",
    "        if i.endswith(\".midi\"):\n",
    "            tr = file_path+i\n",
    "            # print(tr)\n",
    "            midi = converter.parse(tr)\n",
    "            all_midis.append(midi)\n",
    "    \n",
    "    print(\"Done loading midi files\")\n",
    "\n",
    "load_midi(file_path)"
   ]
  },
  {
   "attachments": {},
   "cell_type": "markdown",
   "metadata": {},
   "source": [
    "# get the notes and durations\n",
    "- We append the pitch of every note object using its string notation since the most significant parts of the note can be recreated using the string notation of the pitch.\n",
    "\n",
    "- And we append every chord by encoding the id of every note in the chord together into a single string, with each note being separated by a dot.\n",
    "\n",
    "- These encodings allows us to easily decode the output generated by the network into the correct notes and chords.\n"
   ]
  },
  {
   "cell_type": "code",
   "execution_count": 5,
   "metadata": {},
   "outputs": [],
   "source": [
    "def get_notes(file):\n",
    "    notes = []\n",
    "    durations = []\n",
    "    notes_to_parse = []\n",
    "\n",
    "    for song in tqdm(file):\n",
    "\n",
    "        # group by instrument parts and flatten into a single stream\n",
    "        part = instrument.partitionByInstrument(song)\n",
    "        # part = song\n",
    "\n",
    "        if part: # if parts has instrument parts\n",
    "            notes_to_parse = part.parts[0].recurse() # get first instrument part\n",
    "        else:\n",
    "            notes_to_parse = midi.flat.notes # if no instrument parts, notes are flat\n",
    "        \n",
    "        # for part in part.parts:\n",
    "        #     notes_to_parse = part.recurse()\n",
    "\n",
    "        for element in notes_to_parse:\n",
    "            if isinstance(element, note.Note):\n",
    "                notes.append(str(element.pitch))\n",
    "                # durations.append(element.duration.quarterLength)\n",
    "            elif isinstance(element, chord.Chord):\n",
    "                notes.append('.'.join(str(n) for n in element.normalOrder))\n",
    "                # durations.append(element.duration.quarterLength)\n",
    "\n",
    "    # return notes, durations\n",
    "    return notes"
   ]
  },
  {
   "cell_type": "code",
   "execution_count": 6,
   "metadata": {},
   "outputs": [
    {
     "name": "stderr",
     "output_type": "stream",
     "text": [
      "100%|██████████| 132/132 [01:28<00:00,  1.49it/s]"
     ]
    },
    {
     "name": "stdout",
     "output_type": "stream",
     "text": [
      "Total notes in all the 2004 midis in the dataset: 420460\n"
     ]
    },
    {
     "name": "stderr",
     "output_type": "stream",
     "text": [
      "\n"
     ]
    }
   ],
   "source": [
    "notes  = get_notes(all_midis)\n",
    "n_vocab = len(set(notes))\n",
    "print(\"Total notes in all the 2004 midis in the dataset:\", len(notes))\n",
    "# print(\"Total durations in all the 2004 midis in the dataset:\", len(DURATION))"
   ]
  },
  {
   "cell_type": "code",
   "execution_count": 7,
   "metadata": {},
   "outputs": [
    {
     "name": "stdout",
     "output_type": "stream",
     "text": [
      "First fifty values in the notes:\n",
      " ['B4', 'G3', 'B4', 'B3', 'D4', 'C5', 'G4', 'A3', '0.2', 'C5', 'G4', 'F#4', '11.0', '0.4', '11.2', 'D4', 'F#4', 'G4', 'B4', 'D5', '6.11', 'G5', 'G4', '0.4', 'G5', '11.2', 'G5', 'C5', 'A3', 'B4']\n"
     ]
    }
   ],
   "source": [
    "print(\"First fifty values in the notes:\\n\", notes[:30])\n",
    "# print(\"First fifty values in the Corpus:\\n\", DURATION[:30])\n",
    "\n",
    "# print('pitch')\n",
    "# idx = 0\n",
    "# for n in zip(notes):\n",
    "#     if idx < 50:\n",
    "#         print(n)\n",
    "#     idx = idx + 1"
   ]
  },
  {
   "cell_type": "code",
   "execution_count": 8,
   "metadata": {},
   "outputs": [],
   "source": [
    "import tensorflow as tf\n",
    "from tensorflow import keras as k\n",
    "from keras.models import Sequential\n",
    "from keras.layers import SimpleRNN, Dense, Dropout, Activation"
   ]
  },
  {
   "cell_type": "code",
   "execution_count": 9,
   "metadata": {},
   "outputs": [],
   "source": [
    "def prepare_sequences(notes, n_vocab):\n",
    "    \"\"\" Prepare the sequences used by the Neural Network \"\"\"\n",
    "    sequence_length = 100\n",
    "    # get all pitch names\n",
    "    pitchnames = sorted(set(item for item in notes))\n",
    "    # create a dictionary to map pitches to integers\n",
    "    note_to_int = dict((note, number) for number, note in enumerate(pitchnames))\n",
    "    network_input = []\n",
    "    network_output = []\n",
    "    # create input sequences and the corresponding outputs\n",
    "    for i in range(0, len(notes) - sequence_length, 1):\n",
    "        sequence_in = notes[i:i + sequence_length]\n",
    "        sequence_out = notes[i + sequence_length]\n",
    "        network_input.append([note_to_int[char] for char in sequence_in])\n",
    "        network_output.append(note_to_int[sequence_out])\n",
    "    n_patterns = len(network_input)\n",
    "    # reshape the input into a format compatible with LSTM layers\n",
    "    network_input = np.reshape(network_input, (n_patterns, sequence_length, 1))\n",
    "    # normalize input\n",
    "    network_input = network_input / float(n_vocab)\n",
    "    # network_output = np_utils.to_categorical(network_output)\n",
    "    network_output = tf.keras.utils.to_categorical(network_output)\n",
    "\n",
    "    return (network_input, network_output)\n"
   ]
  },
  {
   "cell_type": "code",
   "execution_count": 10,
   "metadata": {},
   "outputs": [],
   "source": [
    "network_input, network_output = prepare_sequences(notes, n_vocab)"
   ]
  },
  {
   "cell_type": "code",
   "execution_count": 11,
   "metadata": {},
   "outputs": [],
   "source": [
    "# simple RNN model\n",
    "\n",
    "def create_network(network_input, n_vocab):\n",
    "    \"\"\" create the structure of the neural network \"\"\"\n",
    "    model = Sequential()\n",
    "    model.add(SimpleRNN(512, input_shape=(network_input.shape[1], network_input.shape[2]), return_sequences=True))\n",
    "    model.add(Dropout(0.3))\n",
    "    model.add(SimpleRNN(512, return_sequences=True))\n",
    "    model.add(Dropout(0.3))\n",
    "    model.add(SimpleRNN(512))\n",
    "    model.add(Dense(256))\n",
    "    model.add(Dropout(0.3))\n",
    "    model.add(Dense(n_vocab))\n",
    "    model.add(Activation('softmax'))\n",
    "    model.compile(loss='categorical_crossentropy', optimizer='adam')\n",
    "\n",
    "    return model"
   ]
  },
  {
   "cell_type": "code",
   "execution_count": 12,
   "metadata": {},
   "outputs": [
    {
     "name": "stdout",
     "output_type": "stream",
     "text": [
      "Model: \"sequential\"\n",
      "_________________________________________________________________\n",
      " Layer (type)                Output Shape              Param #   \n",
      "=================================================================\n",
      " simple_rnn (SimpleRNN)      (None, 100, 512)          263168    \n",
      "                                                                 \n",
      " dropout (Dropout)           (None, 100, 512)          0         \n",
      "                                                                 \n",
      " simple_rnn_1 (SimpleRNN)    (None, 100, 512)          524800    \n",
      "                                                                 \n",
      " dropout_1 (Dropout)         (None, 100, 512)          0         \n",
      "                                                                 \n",
      " simple_rnn_2 (SimpleRNN)    (None, 512)               524800    \n",
      "                                                                 \n",
      " dense (Dense)               (None, 256)               131328    \n",
      "                                                                 \n",
      " dropout_2 (Dropout)         (None, 256)               0         \n",
      "                                                                 \n",
      " dense_1 (Dense)             (None, 2006)              515542    \n",
      "                                                                 \n",
      " activation (Activation)     (None, 2006)              0         \n",
      "                                                                 \n",
      "=================================================================\n",
      "Total params: 1,959,638\n",
      "Trainable params: 1,959,638\n",
      "Non-trainable params: 0\n",
      "_________________________________________________________________\n"
     ]
    }
   ],
   "source": [
    "model = create_network(network_input, n_vocab)\n",
    "model.summary()"
   ]
  },
  {
   "cell_type": "code",
   "execution_count": null,
   "metadata": {},
   "outputs": [],
   "source": []
  }
 ],
 "metadata": {
  "kernelspec": {
   "display_name": ".venv",
   "language": "python",
   "name": "python3"
  },
  "language_info": {
   "codemirror_mode": {
    "name": "ipython",
    "version": 3
   },
   "file_extension": ".py",
   "mimetype": "text/x-python",
   "name": "python",
   "nbconvert_exporter": "python",
   "pygments_lexer": "ipython3",
   "version": "3.11.2"
  },
  "orig_nbformat": 4,
  "vscode": {
   "interpreter": {
    "hash": "04bcf3e8d3996257ff2356ec82916815962c9a687d6f8714b5054a1c7023f668"
   }
  }
 },
 "nbformat": 4,
 "nbformat_minor": 2
}
